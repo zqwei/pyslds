{
 "cells": [
  {
   "cell_type": "markdown",
   "metadata": {},
   "source": [
    "### Load mat data"
   ]
  },
  {
   "cell_type": "code",
   "execution_count": 1,
   "metadata": {},
   "outputs": [],
   "source": [
    "import scipy.io as sio\n",
    "import numpy as np\n",
    "import matplotlib.pyplot as plt\n",
    "%matplotlib inline\n",
    "from __future__ import division\n",
    "from sklearn.decomposition import FactorAnalysis as factan"
   ]
  },
  {
   "cell_type": "code",
   "execution_count": 2,
   "metadata": {},
   "outputs": [],
   "source": [
    "mat_contents = sio.loadmat('/Users/dalin/Documents/My_Research/Dataset/ALM_Svoboda_Lab_Data/Code/TLDS/TempDat/Simultaneous_Spikes.mat')"
   ]
  },
  {
   "cell_type": "code",
   "execution_count": 3,
   "metadata": {},
   "outputs": [],
   "source": [
    "nDataSet = mat_contents['nDataSet']\n",
    "params = mat_contents['params']"
   ]
  },
  {
   "cell_type": "code",
   "execution_count": 4,
   "metadata": {},
   "outputs": [],
   "source": [
    "# nDataSet[0, 0][0].flatten()[0] # sessionIndex\n",
    "# nDataSet[0, 0][1].flatten() # nUnit\n",
    "# nDataSet[0, 0][2] # unitROCIndex\n",
    "# nDataSet[0, 0][3].flatten() # unit_yes_trial_index\n",
    "# nDataSet[0, 0][4].flatten() # unit_no_trial_index\n",
    "# nDataSet[0, 0][5] # unit_yes_trial, trial x unit x Time\n",
    "# nDataSet[0, 0][6] # unit_no_trial, trial x unit x Time\n",
    "# nDataSet[0, 0][7].flatten() # totTargets\n",
    "# nDataSet[0, 0][8].flatten() # firstLickTime"
   ]
  },
  {
   "cell_type": "code",
   "execution_count": 5,
   "metadata": {},
   "outputs": [],
   "source": [
    "nSession = 17 # matlab index\n",
    "nSession = nSession - 1\n",
    "totTargets = nDataSet[0, nSession][7].flatten()\n",
    "unit_yes_trial = nDataSet[0, nSession][5]\n",
    "unit_no_trial = nDataSet[0, nSession][6]"
   ]
  },
  {
   "cell_type": "code",
   "execution_count": 6,
   "metadata": {
    "scrolled": true
   },
   "outputs": [],
   "source": [
    "from pybasicbayes.util.text import progprint_xrange\n",
    "from pylds.util import random_rotation\n",
    "from pyslds.models import DefaultSLDS\n",
    "import numpy.random as npr"
   ]
  },
  {
   "cell_type": "code",
   "execution_count": 7,
   "metadata": {},
   "outputs": [],
   "source": [
    "unit_trial = np.concatenate((unit_yes_trial, unit_no_trial))\n",
    "numTrial, numUnit, numTime = unit_trial.shape"
   ]
  },
  {
   "cell_type": "code",
   "execution_count": 8,
   "metadata": {},
   "outputs": [],
   "source": [
    "factor_unit_trial = unit_trial.transpose([0, 2, 1])\n",
    "factor_unit_trial = factor_unit_trial.reshape([-1, factor_unit_trial.shape[2]])"
   ]
  },
  {
   "cell_type": "code",
   "execution_count": 9,
   "metadata": {},
   "outputs": [],
   "source": [
    "# D_init = factor_unit_trial.mean(axis=0)"
   ]
  },
  {
   "cell_type": "code",
   "execution_count": 10,
   "metadata": {},
   "outputs": [],
   "source": [
    "# factor_unit_trial = factor_unit_trial - D_init"
   ]
  },
  {
   "cell_type": "code",
   "execution_count": 11,
   "metadata": {},
   "outputs": [],
   "source": [
    "np.random.seed(12345678)\n",
    "# transition\n",
    "K = 8\n",
    "yDim = numUnit\n",
    "xDim = 5\n",
    "inputDim = 1 # some constants\n",
    "inputs = np.ones((numTime, inputDim))"
   ]
  },
  {
   "cell_type": "code",
   "execution_count": 12,
   "metadata": {},
   "outputs": [],
   "source": [
    "estimator = factan(n_components=xDim, tol=0.000001, copy=True, \n",
    "                   max_iter=1000, noise_variance_init=None, \n",
    "                   svd_method='randomized', iterated_power=3, \n",
    "                   random_state=None)"
   ]
  },
  {
   "cell_type": "code",
   "execution_count": 13,
   "metadata": {},
   "outputs": [],
   "source": [
    "estimator.fit(factor_unit_trial)\n",
    "C_init = estimator.components_.T\n",
    "D_init = estimator.mean_"
   ]
  },
  {
   "cell_type": "code",
   "execution_count": 14,
   "metadata": {},
   "outputs": [],
   "source": [
    "Cs=[C_init.copy() for _ in range(K)]\n",
    "Ds=[D_init.copy().reshape([-1, 1]) for _ in range(K)]\n",
    "# Cs = C_init.copy()\n",
    "# Ds = D_init.copy().reshape([-1, 1])"
   ]
  },
  {
   "cell_type": "code",
   "execution_count": 15,
   "metadata": {},
   "outputs": [],
   "source": [
    "test_model = DefaultSLDS(K, yDim, xDim, inputDim,\n",
    "                         Cs=Cs,\n",
    "                         Ds=Ds)\n",
    "for trial in range(numTrial):\n",
    "    test_model.add_data(unit_trial[trial].T, inputs=inputs)"
   ]
  },
  {
   "cell_type": "code",
   "execution_count": 16,
   "metadata": {},
   "outputs": [
    {
     "name": "stdout",
     "output_type": "stream",
     "text": [
      "Initializing with Gibbs\n",
      ".........................  [   25/1000,    1.32sec avg, ETA 21:23 ]\n",
      ".........................  [   50/1000,    1.49sec avg, ETA 23:33 ]\n",
      ".........................  [   75/1000,    1.61sec avg, ETA 24:46 ]\n",
      ".........................  [  100/1000,    1.67sec avg, ETA 24:60 ]\n",
      ".........................  [  125/1000,    1.66sec avg, ETA 24:14 ]\n",
      ".........................  [  150/1000,    1.70sec avg, ETA 24:05 ]\n",
      ".........................  [  175/1000,    1.72sec avg, ETA 23:39 ]\n",
      ".........................  [  200/1000,    1.71sec avg, ETA 22:46 ]\n",
      ".........................  [  225/1000,    1.71sec avg, ETA 22:04 ]\n",
      ".........................  [  250/1000,    1.71sec avg, ETA 21:22 ]\n",
      ".........................  [  275/1000,    1.72sec avg, ETA 20:44 ]\n",
      ".........................  [  300/1000,    1.72sec avg, ETA 20:01 ]\n",
      ".........................  [  325/1000,    1.72sec avg, ETA 19:21 ]\n",
      ".........................  [  350/1000,    1.72sec avg, ETA 18:36 ]\n",
      ".........................  [  375/1000,    1.71sec avg, ETA 17:51 ]\n",
      ".........................  [  400/1000,    1.70sec avg, ETA 17:02 ]\n",
      ".........................  [  425/1000,    1.71sec avg, ETA 16:24 ]\n",
      ".........................  [  450/1000,    1.68sec avg, ETA 15:25 ]\n",
      ".........................  [  475/1000,    1.66sec avg, ETA 14:30 ]\n",
      ".........................  [  500/1000,    1.64sec avg, ETA 13:39 ]\n",
      ".........................  [  525/1000,    1.62sec avg, ETA 12:50 ]\n",
      ".........................  [  550/1000,    1.60sec avg, ETA 12:00 ]\n",
      ".........................  [  575/1000,    1.58sec avg, ETA 11:12 ]\n",
      ".........................  [  600/1000,    1.56sec avg, ETA 10:26 ]\n",
      ".........................  [  625/1000,    1.55sec avg, ETA 09:42 ]\n",
      ".........................  [  650/1000,    1.54sec avg, ETA 08:59 ]\n",
      ".........................  [  675/1000,    1.53sec avg, ETA 08:18 ]\n",
      ".........................  [  700/1000,    1.52sec avg, ETA 07:37 ]\n",
      ".........................  [  725/1000,    1.51sec avg, ETA 06:56 ]\n",
      ".........................  [  750/1000,    1.51sec avg, ETA 06:16 ]\n",
      ".........................  [  775/1000,    1.50sec avg, ETA 05:37 ]\n",
      ".........................  [  800/1000,    1.49sec avg, ETA 04:58 ]\n",
      ".........................  [  825/1000,    1.48sec avg, ETA 04:19 ]\n",
      ".........................  [  850/1000,    1.47sec avg, ETA 03:41 ]\n",
      ".........................  [  875/1000,    1.46sec avg, ETA 03:03 ]\n",
      ".........................  [  900/1000,    1.46sec avg, ETA 02:26 ]\n",
      ".........................  [  925/1000,    1.45sec avg, ETA 01:49 ]\n",
      ".........................  [  950/1000,    1.45sec avg, ETA 01:12 ]\n",
      ".........................  [  975/1000,    1.44sec avg, ETA 35.99 ]\n",
      ".........................  [ 1000/1000,    1.43sec avg, ETA 0.00 ]\n",
      "\n",
      "   1.43sec avg, 23:53 total\n",
      "\n"
     ]
    }
   ],
   "source": [
    "print(\"Initializing with Gibbs\")\n",
    "N_gibbs_samples = 1000\n",
    "def initialize(model):\n",
    "    model.resample_model()\n",
    "    return model.log_likelihood()\n",
    "\n",
    "gibbs_lls = [initialize(test_model) for _ in progprint_xrange(N_gibbs_samples)]"
   ]
  },
  {
   "cell_type": "code",
   "execution_count": 17,
   "metadata": {},
   "outputs": [
    {
     "name": "stdout",
     "output_type": "stream",
     "text": [
      "Fitting with VBEM\n"
     ]
    },
    {
     "ename": "AttributeError",
     "evalue": "'HMMSLDSStatesEigen' object has no attribute 'E_init_stats'",
     "output_type": "error",
     "traceback": [
      "\u001b[0;31m---------------------------------------------------------------------------\u001b[0m",
      "\u001b[0;31mAttributeError\u001b[0m                            Traceback (most recent call last)",
      "\u001b[0;32m<ipython-input-17-872b909b73fe>\u001b[0m in \u001b[0;36m<module>\u001b[0;34m()\u001b[0m\n\u001b[1;32m      7\u001b[0m \u001b[0;34m\u001b[0m\u001b[0m\n\u001b[1;32m      8\u001b[0m \u001b[0mtest_model\u001b[0m\u001b[0;34m.\u001b[0m\u001b[0mstates_list\u001b[0m\u001b[0;34m[\u001b[0m\u001b[0;36m0\u001b[0m\u001b[0;34m]\u001b[0m\u001b[0;34m.\u001b[0m\u001b[0m_init_mf_from_gibbs\u001b[0m\u001b[0;34m(\u001b[0m\u001b[0;34m)\u001b[0m\u001b[0;34m\u001b[0m\u001b[0m\n\u001b[0;32m----> 9\u001b[0;31m \u001b[0mvbem_lls\u001b[0m \u001b[0;34m=\u001b[0m \u001b[0;34m[\u001b[0m\u001b[0mupdate\u001b[0m\u001b[0;34m(\u001b[0m\u001b[0mtest_model\u001b[0m\u001b[0;34m)\u001b[0m \u001b[0;32mfor\u001b[0m \u001b[0m_\u001b[0m \u001b[0;32min\u001b[0m \u001b[0mprogprint_xrange\u001b[0m\u001b[0;34m(\u001b[0m\u001b[0mN_vbem_iters\u001b[0m\u001b[0;34m)\u001b[0m\u001b[0;34m]\u001b[0m\u001b[0;34m\u001b[0m\u001b[0m\n\u001b[0m",
      "\u001b[0;32m<ipython-input-17-872b909b73fe>\u001b[0m in \u001b[0;36mupdate\u001b[0;34m(model)\u001b[0m\n\u001b[1;32m      3\u001b[0m \u001b[0mN_vbem_iters\u001b[0m \u001b[0;34m=\u001b[0m \u001b[0;36m1000\u001b[0m\u001b[0;34m\u001b[0m\u001b[0m\n\u001b[1;32m      4\u001b[0m \u001b[0;32mdef\u001b[0m \u001b[0mupdate\u001b[0m\u001b[0;34m(\u001b[0m\u001b[0mmodel\u001b[0m\u001b[0;34m)\u001b[0m\u001b[0;34m:\u001b[0m\u001b[0;34m\u001b[0m\u001b[0m\n\u001b[0;32m----> 5\u001b[0;31m     \u001b[0mmodel\u001b[0m\u001b[0;34m.\u001b[0m\u001b[0mVBEM_step\u001b[0m\u001b[0;34m(\u001b[0m\u001b[0;34m)\u001b[0m\u001b[0;34m\u001b[0m\u001b[0m\n\u001b[0m\u001b[1;32m      6\u001b[0m     \u001b[0;32mreturn\u001b[0m \u001b[0mmodel\u001b[0m\u001b[0;34m.\u001b[0m\u001b[0mlog_likelihood\u001b[0m\u001b[0;34m(\u001b[0m\u001b[0;34m)\u001b[0m\u001b[0;34m\u001b[0m\u001b[0m\n\u001b[1;32m      7\u001b[0m \u001b[0;34m\u001b[0m\u001b[0m\n",
      "\u001b[0;32m/Users/dalin/Documents/My_Research/Dataset/Paninski_Lab_Alg/pyslds/pyslds/models.pyc\u001b[0m in \u001b[0;36mVBEM_step\u001b[0;34m(self, n_iter)\u001b[0m\n\u001b[1;32m    215\u001b[0m     \u001b[0;32mdef\u001b[0m \u001b[0mVBEM_step\u001b[0m\u001b[0;34m(\u001b[0m\u001b[0mself\u001b[0m\u001b[0;34m,\u001b[0m \u001b[0mn_iter\u001b[0m\u001b[0;34m=\u001b[0m\u001b[0;36m1\u001b[0m\u001b[0;34m)\u001b[0m\u001b[0;34m:\u001b[0m\u001b[0;34m\u001b[0m\u001b[0m\n\u001b[1;32m    216\u001b[0m         \u001b[0;32mfor\u001b[0m \u001b[0m_\u001b[0m \u001b[0;32min\u001b[0m \u001b[0mrange\u001b[0m\u001b[0;34m(\u001b[0m\u001b[0mn_iter\u001b[0m\u001b[0;34m)\u001b[0m\u001b[0;34m:\u001b[0m\u001b[0;34m\u001b[0m\u001b[0m\n\u001b[0;32m--> 217\u001b[0;31m             \u001b[0mself\u001b[0m\u001b[0;34m.\u001b[0m\u001b[0m_vb_E_step\u001b[0m\u001b[0;34m(\u001b[0m\u001b[0;34m)\u001b[0m\u001b[0;34m\u001b[0m\u001b[0m\n\u001b[0m\u001b[1;32m    218\u001b[0m         \u001b[0mself\u001b[0m\u001b[0;34m.\u001b[0m\u001b[0m_vb_M_step\u001b[0m\u001b[0;34m(\u001b[0m\u001b[0;34m)\u001b[0m\u001b[0;34m\u001b[0m\u001b[0m\n\u001b[1;32m    219\u001b[0m \u001b[0;34m\u001b[0m\u001b[0m\n",
      "\u001b[0;32m/Users/dalin/Documents/My_Research/Dataset/Paninski_Lab_Alg/pyslds/pyslds/models.pyc\u001b[0m in \u001b[0;36m_vb_E_step\u001b[0;34m(self)\u001b[0m\n\u001b[1;32m    168\u001b[0m         \u001b[0;31m# update the variational approximation for the states\u001b[0m\u001b[0;34m\u001b[0m\u001b[0;34m\u001b[0m\u001b[0m\n\u001b[1;32m    169\u001b[0m         \u001b[0;32mfor\u001b[0m \u001b[0mstate\u001b[0m \u001b[0;32min\u001b[0m \u001b[0mself\u001b[0m\u001b[0;34m.\u001b[0m\u001b[0mstates_list\u001b[0m\u001b[0;34m:\u001b[0m\u001b[0;34m\u001b[0m\u001b[0m\n\u001b[0;32m--> 170\u001b[0;31m             \u001b[0mstate\u001b[0m\u001b[0;34m.\u001b[0m\u001b[0mvb_E_step\u001b[0m\u001b[0;34m(\u001b[0m\u001b[0;34m)\u001b[0m\u001b[0;34m\u001b[0m\u001b[0m\n\u001b[0m\u001b[1;32m    171\u001b[0m \u001b[0;34m\u001b[0m\u001b[0m\n\u001b[1;32m    172\u001b[0m     \u001b[0;32mdef\u001b[0m \u001b[0m_vb_M_step\u001b[0m\u001b[0;34m(\u001b[0m\u001b[0mself\u001b[0m\u001b[0;34m)\u001b[0m\u001b[0;34m:\u001b[0m\u001b[0;34m\u001b[0m\u001b[0m\n",
      "\u001b[0;32m/Users/dalin/Documents/My_Research/Dataset/Paninski_Lab_Alg/pyslds/pyslds/states.pyc\u001b[0m in \u001b[0;36mvb_E_step\u001b[0;34m(self)\u001b[0m\n\u001b[1;32m    584\u001b[0m \u001b[0;34m\u001b[0m\u001b[0m\n\u001b[1;32m    585\u001b[0m     \u001b[0;32mdef\u001b[0m \u001b[0mvb_E_step\u001b[0m\u001b[0;34m(\u001b[0m\u001b[0mself\u001b[0m\u001b[0;34m)\u001b[0m\u001b[0;34m:\u001b[0m\u001b[0;34m\u001b[0m\u001b[0m\n\u001b[0;32m--> 586\u001b[0;31m         \u001b[0mH_z\u001b[0m \u001b[0;34m=\u001b[0m \u001b[0mself\u001b[0m\u001b[0;34m.\u001b[0m\u001b[0mvb_E_step_discrete_states\u001b[0m\u001b[0;34m(\u001b[0m\u001b[0;34m)\u001b[0m\u001b[0;34m\u001b[0m\u001b[0m\n\u001b[0m\u001b[1;32m    587\u001b[0m         \u001b[0mH_x\u001b[0m \u001b[0;34m=\u001b[0m \u001b[0mself\u001b[0m\u001b[0;34m.\u001b[0m\u001b[0mvb_E_step_gaussian_states\u001b[0m\u001b[0;34m(\u001b[0m\u001b[0;34m)\u001b[0m\u001b[0;34m\u001b[0m\u001b[0m\n\u001b[1;32m    588\u001b[0m         \u001b[0mself\u001b[0m\u001b[0;34m.\u001b[0m\u001b[0m_variational_entropy\u001b[0m \u001b[0;34m=\u001b[0m \u001b[0mH_z\u001b[0m \u001b[0;34m+\u001b[0m \u001b[0mH_x\u001b[0m\u001b[0;34m\u001b[0m\u001b[0m\n",
      "\u001b[0;32m/Users/dalin/Documents/My_Research/Dataset/Paninski_Lab_Alg/pyslds/pyslds/states.pyc\u001b[0m in \u001b[0;36mvb_E_step_discrete_states\u001b[0;34m(self)\u001b[0m\n\u001b[1;32m    590\u001b[0m     \u001b[0;32mdef\u001b[0m \u001b[0mvb_E_step_discrete_states\u001b[0m\u001b[0;34m(\u001b[0m\u001b[0mself\u001b[0m\u001b[0;34m)\u001b[0m\u001b[0;34m:\u001b[0m\u001b[0;34m\u001b[0m\u001b[0m\n\u001b[1;32m    591\u001b[0m         \u001b[0;31m# Call pyhsmm to do message passing and compute expected suff stats\u001b[0m\u001b[0;34m\u001b[0m\u001b[0;34m\u001b[0m\u001b[0m\n\u001b[0;32m--> 592\u001b[0;31m         \u001b[0maBl\u001b[0m \u001b[0;34m=\u001b[0m \u001b[0mself\u001b[0m\u001b[0;34m.\u001b[0m\u001b[0mvbem_aBl\u001b[0m\u001b[0;34m\u001b[0m\u001b[0m\n\u001b[0m\u001b[1;32m    593\u001b[0m         \u001b[0mself\u001b[0m\u001b[0;34m.\u001b[0m\u001b[0mall_expected_stats\u001b[0m \u001b[0;34m=\u001b[0m \u001b[0mself\u001b[0m\u001b[0;34m.\u001b[0m\u001b[0m_expected_statistics\u001b[0m\u001b[0;34m(\u001b[0m\u001b[0mself\u001b[0m\u001b[0;34m.\u001b[0m\u001b[0mtrans_matrix\u001b[0m\u001b[0;34m,\u001b[0m \u001b[0mself\u001b[0m\u001b[0;34m.\u001b[0m\u001b[0mpi_0\u001b[0m\u001b[0;34m,\u001b[0m \u001b[0maBl\u001b[0m\u001b[0;34m)\u001b[0m\u001b[0;34m\u001b[0m\u001b[0m\n\u001b[1;32m    594\u001b[0m         \u001b[0;31m# add small value  + 1e-30 to aviod -inf or zero-division in log computation\u001b[0m\u001b[0;34m\u001b[0m\u001b[0;34m\u001b[0m\u001b[0m\n",
      "\u001b[0;32m/Users/dalin/Documents/My_Research/Dataset/Paninski_Lab_Alg/pyslds/pyslds/states.pyc\u001b[0m in \u001b[0;36mvbem_aBl\u001b[0;34m(self)\u001b[0m\n\u001b[1;32m    570\u001b[0m \u001b[0;34m\u001b[0m\u001b[0m\n\u001b[1;32m    571\u001b[0m         \u001b[0;32mfor\u001b[0m \u001b[0mk\u001b[0m\u001b[0;34m,\u001b[0m \u001b[0;34m(\u001b[0m\u001b[0mid\u001b[0m\u001b[0;34m,\u001b[0m \u001b[0mdd\u001b[0m\u001b[0;34m)\u001b[0m \u001b[0;32min\u001b[0m \u001b[0menumerate\u001b[0m\u001b[0;34m(\u001b[0m\u001b[0mzip\u001b[0m\u001b[0;34m(\u001b[0m\u001b[0mids\u001b[0m\u001b[0;34m,\u001b[0m \u001b[0mdds\u001b[0m\u001b[0;34m)\u001b[0m\u001b[0;34m)\u001b[0m\u001b[0;34m:\u001b[0m\u001b[0;34m\u001b[0m\u001b[0m\n\u001b[0;32m--> 572\u001b[0;31m             \u001b[0mvbem_aBl\u001b[0m\u001b[0;34m[\u001b[0m\u001b[0;36m0\u001b[0m\u001b[0;34m,\u001b[0m \u001b[0mk\u001b[0m\u001b[0;34m]\u001b[0m \u001b[0;34m=\u001b[0m \u001b[0mexpected_gaussian_logprob\u001b[0m\u001b[0;34m(\u001b[0m\u001b[0mid\u001b[0m\u001b[0;34m.\u001b[0m\u001b[0mmu\u001b[0m\u001b[0;34m,\u001b[0m \u001b[0mid\u001b[0m\u001b[0;34m.\u001b[0m\u001b[0msigma\u001b[0m\u001b[0;34m,\u001b[0m \u001b[0mself\u001b[0m\u001b[0;34m.\u001b[0m\u001b[0mE_init_stats\u001b[0m\u001b[0;34m)\u001b[0m\u001b[0;34m\u001b[0m\u001b[0m\n\u001b[0m\u001b[1;32m    573\u001b[0m             \u001b[0mvbem_aBl\u001b[0m\u001b[0;34m[\u001b[0m\u001b[0;34m:\u001b[0m\u001b[0;34m-\u001b[0m\u001b[0;36m1\u001b[0m\u001b[0;34m,\u001b[0m \u001b[0mk\u001b[0m\u001b[0;34m]\u001b[0m \u001b[0;34m+=\u001b[0m \u001b[0mexpected_regression_log_prob\u001b[0m\u001b[0;34m(\u001b[0m\u001b[0mdd\u001b[0m\u001b[0;34m,\u001b[0m \u001b[0mself\u001b[0m\u001b[0;34m.\u001b[0m\u001b[0mE_dynamics_stats\u001b[0m\u001b[0;34m)\u001b[0m\u001b[0;34m\u001b[0m\u001b[0m\n\u001b[1;32m    574\u001b[0m \u001b[0;34m\u001b[0m\u001b[0m\n",
      "\u001b[0;31mAttributeError\u001b[0m: 'HMMSLDSStatesEigen' object has no attribute 'E_init_stats'"
     ]
    }
   ],
   "source": [
    "# Fit with VBEM\n",
    "print(\"Fitting with VBEM\")\n",
    "N_vbem_iters = 1000\n",
    "def update(model):\n",
    "    model.VBEM_step()\n",
    "    return model.log_likelihood()\n",
    "\n",
    "test_model.states_list[0]._init_mf_from_gibbs()\n",
    "vbem_lls = [update(test_model) for _ in progprint_xrange(N_vbem_iters)]"
   ]
  },
  {
   "cell_type": "code",
   "execution_count": 19,
   "metadata": {},
   "outputs": [
    {
     "data": {
      "text/plain": [
       "array([[ 1.52394402e+00, -1.19598960e+00, -6.98868650e-01,\n",
       "         7.15491235e-02, -9.84654039e-01],\n",
       "       [-2.48352773e-01, -2.69510072e-01,  7.17553827e-01,\n",
       "        -5.81418777e-02,  5.64970032e-01],\n",
       "       [-2.10174806e-01,  9.46998122e-01,  2.51738865e+00,\n",
       "         4.73721009e-01,  1.58155755e+00],\n",
       "       [ 2.85484004e+01, -3.82905302e-01,  2.35230351e-01,\n",
       "        -7.13216798e-02,  4.33830115e-03],\n",
       "       [-3.47214476e+00, -8.94549923e+00,  1.22702232e+01,\n",
       "         6.48830903e+00,  4.43128135e-01],\n",
       "       [ 3.93464056e+00,  4.81497171e+00, -7.86544390e+00,\n",
       "         1.03006550e+01, -3.89399509e-02],\n",
       "       [ 4.49862022e-01,  1.87217259e-01, -2.77787054e-01,\n",
       "         1.10530903e+00, -4.16636127e-01],\n",
       "       [ 1.25689610e+00,  3.72946864e-01,  9.30882796e-02,\n",
       "         1.42541683e+00,  6.38062975e-01],\n",
       "       [ 1.15181090e+00,  4.65859594e-01, -1.77063441e-02,\n",
       "         4.17405047e-01, -2.61333751e-01],\n",
       "       [-1.25578635e+00, -5.62460413e-01,  1.63389342e+00,\n",
       "         6.95625784e-01,  5.66653837e-01],\n",
       "       [ 5.01365043e-01, -8.88247478e-01,  7.68747862e-02,\n",
       "         1.83953379e-01, -9.51157469e-01],\n",
       "       [-2.09587176e+00, -1.05215666e+00,  1.85501195e+00,\n",
       "        -1.96196979e-01,  7.48211817e-01],\n",
       "       [ 2.75136154e-01, -1.20589169e+00,  7.08487209e-01,\n",
       "        -5.19589964e-01, -7.48933183e-01],\n",
       "       [ 1.26289806e-01,  8.82417893e-01, -8.87827910e-01,\n",
       "        -5.80189823e-01,  9.05298772e+00],\n",
       "       [ 1.31239465e+00,  1.67180205e+01,  3.63817588e+00,\n",
       "         1.78916395e-01, -1.17768923e-01],\n",
       "       [ 2.40648305e+00,  1.38879990e+00, -1.07234086e+00,\n",
       "        -5.37567097e-02,  1.64293283e+00],\n",
       "       [ 2.61462628e+00, -5.87328268e-01,  4.91285440e-02,\n",
       "         9.49091825e-01, -6.47916885e-01],\n",
       "       [-7.67973305e-02, -2.70486559e+00,  1.42989397e+00,\n",
       "        -3.36867204e-01, -1.71943466e+00]])"
      ]
     },
     "execution_count": 19,
     "metadata": {},
     "output_type": "execute_result"
    }
   ],
   "source": [
    "Cs"
   ]
  },
  {
   "cell_type": "code",
   "execution_count": 18,
   "metadata": {},
   "outputs": [
    {
     "data": {
      "text/plain": [
       "['BIC',\n",
       " 'EM_fit',\n",
       " 'EM_step',\n",
       " 'MAP_EM_fit',\n",
       " 'MAP_EM_step',\n",
       " 'VBEM_ELBO',\n",
       " 'VBEM_step',\n",
       " 'Viterbi_EM_fit',\n",
       " 'Viterbi_EM_step',\n",
       " '_EM_fit',\n",
       " '_E_step',\n",
       " '_M_step',\n",
       " '_M_step_dynamics_distn',\n",
       " '_M_step_emission_distn',\n",
       " '_M_step_init_dynamics_distn',\n",
       " '_M_step_init_state_distn',\n",
       " '_M_step_obs_distns',\n",
       " '_M_step_trans_distn',\n",
       " '_Viterbi_E_step',\n",
       " '_Viterbi_M_step',\n",
       " '_Viterbi_M_step_init_state_distn',\n",
       " '_Viterbi_M_step_obs_distns',\n",
       " '_Viterbi_M_step_trans_distn',\n",
       " '__abstractmethods__',\n",
       " '__class__',\n",
       " '__delattr__',\n",
       " '__dict__',\n",
       " '__doc__',\n",
       " '__format__',\n",
       " '__getattribute__',\n",
       " '__getstate__',\n",
       " '__hash__',\n",
       " '__init__',\n",
       " '__long__',\n",
       " '__module__',\n",
       " '__native__',\n",
       " '__new__',\n",
       " '__nonzero__',\n",
       " '__reduce__',\n",
       " '__reduce_ex__',\n",
       " '__repr__',\n",
       " '__setattr__',\n",
       " '__sizeof__',\n",
       " '__str__',\n",
       " '__subclasshook__',\n",
       " '__unicode__',\n",
       " '__weakref__',\n",
       " '_abc_cache',\n",
       " '_abc_negative_cache',\n",
       " '_abc_negative_cache_version',\n",
       " '_abc_registry',\n",
       " '_clear_caches',\n",
       " '_emission_distn',\n",
       " '_fig_sz',\n",
       " '_generate_obs',\n",
       " '_get_axes',\n",
       " '_get_colors',\n",
       " '_get_joblib_pair',\n",
       " '_get_mb_states_list',\n",
       " '_init_mf_from_gibbs',\n",
       " '_init_state_class',\n",
       " '_joblib_meanfield_update_states',\n",
       " '_joblib_resample_states',\n",
       " '_meanfield_sgdstep_init_state_distn',\n",
       " '_meanfield_sgdstep_obs_distns',\n",
       " '_meanfield_sgdstep_parameters',\n",
       " '_meanfield_sgdstep_trans_distn',\n",
       " '_meanfield_update_states_list',\n",
       " '_plot_2d_data_scatter',\n",
       " '_plot_2d_obs_params',\n",
       " '_plot_stateseq_data_values',\n",
       " '_plot_stateseq_pcolor',\n",
       " '_resample_from_mf',\n",
       " '_single_emission',\n",
       " '_states_class',\n",
       " '_trans_class',\n",
       " '_trans_conc_class',\n",
       " '_vb_E_step',\n",
       " '_vb_M_step',\n",
       " 'add_data',\n",
       " 'copy_sample',\n",
       " 'datas',\n",
       " 'diagonal_noise',\n",
       " 'durations',\n",
       " 'dynamics_distns',\n",
       " 'emission_distns',\n",
       " 'energy',\n",
       " 'generate',\n",
       " 'has_missing_data',\n",
       " 'heldout_log_likelihood',\n",
       " 'heldout_state_marginals',\n",
       " 'heldout_viterbi',\n",
       " 'init_dynamics_distns',\n",
       " 'init_state_distn',\n",
       " 'log_likelihood',\n",
       " 'make_figure',\n",
       " 'meanfield_coordinate_descent',\n",
       " 'meanfield_coordinate_descent_step',\n",
       " 'meanfield_sgdstep',\n",
       " 'meanfield_update_dynamics_distns',\n",
       " 'meanfield_update_emission_distns',\n",
       " 'meanfield_update_init_dynamics_distns',\n",
       " 'meanfield_update_init_state_distn',\n",
       " 'meanfield_update_obs_distns',\n",
       " 'meanfield_update_parameters',\n",
       " 'meanfield_update_states',\n",
       " 'meanfield_update_trans_distn',\n",
       " 'next',\n",
       " 'num_parameters',\n",
       " 'num_states',\n",
       " 'obs_distns',\n",
       " 'plot',\n",
       " 'plot_observations',\n",
       " 'plot_stateseq',\n",
       " 'predict',\n",
       " 'predictive_likelihoods',\n",
       " 'resample_and_copy',\n",
       " 'resample_dynamics_distns',\n",
       " 'resample_emission_distns',\n",
       " 'resample_hmm_parameters',\n",
       " 'resample_init_dynamics_distns',\n",
       " 'resample_init_state_distn',\n",
       " 'resample_lds_parameters',\n",
       " 'resample_model',\n",
       " 'resample_obs_distns',\n",
       " 'resample_parameters',\n",
       " 'resample_states',\n",
       " 'resample_trans_distn',\n",
       " 'rvs',\n",
       " 'smooth',\n",
       " 'state_usages',\n",
       " 'states_list',\n",
       " 'stateseqs',\n",
       " 'stateseqs_norep',\n",
       " 'swap_sample_with',\n",
       " 'temperature',\n",
       " 'trans_distn',\n",
       " 'used_states',\n",
       " 'vlb']"
      ]
     },
     "execution_count": 18,
     "metadata": {},
     "output_type": "execute_result"
    }
   ],
   "source": [
    "dir(test_model)"
   ]
  },
  {
   "cell_type": "code",
   "execution_count": null,
   "metadata": {},
   "outputs": [],
   "source": [
    "import matplotlib.pyplot as plt\n",
    "from matplotlib.gridspec import GridSpec\n",
    "\n",
    "# Fancy plotting\n",
    "try:\n",
    "    import seaborn as sns\n",
    "    from hips.plotting.colormaps import gradient_cmap\n",
    "    sns.set_style(\"white\")\n",
    "    sns.set_context(\"paper\")\n",
    "\n",
    "    color_names = [\"red\",\n",
    "                   \"windows blue\",\n",
    "                   \"medium green\",\n",
    "                   \"dusty purple\",\n",
    "                   \"orange\",\n",
    "                   \"amber\",\n",
    "                   \"clay\",\n",
    "                   \"pink\",\n",
    "                   \"greyish\",\n",
    "                   \"light cyan\",\n",
    "                   \"steel blue\",\n",
    "                   \"forest green\",\n",
    "                   \"pastel purple\",\n",
    "                   \"mint\",\n",
    "                   \"salmon\",\n",
    "                   \"dark brown\"]\n",
    "    colors = sns.xkcd_palette(color_names)\n",
    "    cmap = gradient_cmap(colors)\n",
    "except:\n",
    "    from matplotlib.cm import get_cmap\n",
    "    colors = ['b', 'r', 'y', 'g', 'purple']\n",
    "    cmap = get_cmap(\"jet\")"
   ]
  },
  {
   "cell_type": "code",
   "execution_count": null,
   "metadata": {},
   "outputs": [],
   "source": [
    "# Plot the log likelihoods\n",
    "plt.figure(figsize=(10,6))\n",
    "# plt.plot(np.arange(N_gibbs_samples), gibbs_lls, color=colors[0], label=\"gibbs\")\n",
    "# plt.plot(np.arange(N_gibbs_samples + 1, N_gibbs_samples + N_vbem_iters), vbem_lls[1:], color=colors[1], label=\"vbem\")\n",
    "# plt.xlim(0, N_gibbs_samples + N_vbem_iters)\n",
    "plt.plot(gibbs_lls, color=colors[0], label=\"gibbs\")\n",
    "plt.plot(np.array(vbem_lls), color=colors[1], label=\"vbem\")\n",
    "# plt.xlim([950, 1000])\n",
    "plt.xlabel('iteration')\n",
    "plt.ylabel('log likelihood')\n",
    "plt.legend(loc=\"lower right\")\n",
    "plt.tight_layout()\n",
    "# plt.savefig(\"aux/demo_ll.png\")"
   ]
  },
  {
   "cell_type": "code",
   "execution_count": null,
   "metadata": {},
   "outputs": [],
   "source": [
    "# Smooth the data\n",
    "smoothed_data = test_model.smooth(unit_trial, inputs=inputs)"
   ]
  },
  {
   "cell_type": "code",
   "execution_count": null,
   "metadata": {},
   "outputs": [],
   "source": [
    "fig = plt.figure(figsize=(10,80))\n",
    "gs = GridSpec(3, 1, height_ratios=[.1, .1, 1.0])\n",
    "ax = fig.add_subplot(gs[1,0])\n",
    "timeRange = params['timeSeries'][0][0].flatten()\n",
    "ax.imshow(test_model.states_list[0].stateseq.reshape(numTrial, numTime), vmin=0, vmax=max(len(colors), test_model.num_states)-1,\n",
    "          cmap=cmap, interpolation=\"nearest\", extent=[timeRange.min(),timeRange.max(),numTrial,1], aspect='auto')\n",
    "ax.set_xticks([timeRange.min(), -2.6, -1.2, 0,timeRange.max()])\n",
    "ax.set_yticks([numTrial, totTargets.sum(),1])\n",
    "ax.set_xlabel('Time from movement(sec)')\n",
    "ax.set_ylabel('Trial index')\n",
    "ax.set_title(\"Inferred Discrete States\")\n",
    "plt.show()\n",
    "\n",
    "# ax = fig.add_subplot(gs[2,0])\n",
    "# plt.plot(y[:,0], color='k', lw=2, label=\"observed\")\n",
    "# plt.plot(smoothed_data[:,0], color=colors[0], lw=1, label=\"smoothed\")\n",
    "# plt.xlabel(\"Time\")\n",
    "# plt.xlim(0, min(T, 500))\n",
    "# plt.ylabel(\"Observations\")\n",
    "# plt.legend(loc=\"upper center\", ncol=2)\n",
    "# plt.tight_layout()\n",
    "# # d\n",
    "# # \n",
    "# plt.figure()\n",
    "# from pyhsmm.util.general import rle\n",
    "# z_rle = rle(z)\n",
    "# offset = 0\n",
    "# for k, dur in zip(*z_rle):\n",
    "#     plt.plot(x[offset:offset+dur,0], x[offset:offset+dur,1], color=colors[k])\n",
    "#     offset += dur\n",
    "\n",
    "# plt.xlabel(\"$x_1$\")\n",
    "# plt.ylabel(\"$x_2$\")\n",
    "# plt.title(\"Continuous Latent States\")\n",
    "# plt.show()"
   ]
  },
  {
   "cell_type": "code",
   "execution_count": null,
   "metadata": {},
   "outputs": [],
   "source": []
  }
 ],
 "metadata": {
  "kernelspec": {
   "display_name": "Python 2",
   "language": "python",
   "name": "python2"
  },
  "language_info": {
   "codemirror_mode": {
    "name": "ipython",
    "version": 2
   },
   "file_extension": ".py",
   "mimetype": "text/x-python",
   "name": "python",
   "nbconvert_exporter": "python",
   "pygments_lexer": "ipython2",
   "version": "2.7.14"
  }
 },
 "nbformat": 4,
 "nbformat_minor": 2
}
