{
 "cells": [
  {
   "cell_type": "markdown",
   "metadata": {},
   "source": [
    "### Load mat data"
   ]
  },
  {
   "cell_type": "code",
   "execution_count": 1,
   "metadata": {},
   "outputs": [],
   "source": [
    "import scipy.io as sio\n",
    "import numpy as np\n",
    "import matplotlib.pyplot as plt\n",
    "%matplotlib inline\n",
    "from __future__ import division\n",
    "from sklearn.decomposition import FactorAnalysis as factan\n",
    "import warnings\n",
    "warnings.filterwarnings('ignore')\n",
    "%load_ext autoreload\n",
    "%autoreload 2"
   ]
  },
  {
   "cell_type": "markdown",
   "metadata": {},
   "source": [
    "### Load data"
   ]
  },
  {
   "cell_type": "code",
   "execution_count": 2,
   "metadata": {},
   "outputs": [],
   "source": [
    "mat_contents = sio.loadmat('/Users/dalin/Documents/My_Research/Dataset/ALM_Svoboda_Lab_Data/Code/TLDS/TempDat/Simultaneous_Spikes.mat')"
   ]
  },
  {
   "cell_type": "code",
   "execution_count": 3,
   "metadata": {},
   "outputs": [],
   "source": [
    "nDataSet = mat_contents['nDataSet']\n",
    "params = mat_contents['params']\n",
    "# nDataSet[0, 0][0].flatten()[0] # sessionIndex\n",
    "# nDataSet[0, 0][1].flatten() # nUnit\n",
    "# nDataSet[0, 0][2] # unitROCIndex\n",
    "# nDataSet[0, 0][3].flatten() # unit_yes_trial_index\n",
    "# nDataSet[0, 0][4].flatten() # unit_no_trial_index\n",
    "# nDataSet[0, 0][5] # unit_yes_trial, trial x unit x Time\n",
    "# nDataSet[0, 0][6] # unit_no_trial, trial x unit x Time\n",
    "# nDataSet[0, 0][7].flatten() # totTargets\n",
    "# nDataSet[0, 0][8].flatten() # firstLickTime"
   ]
  },
  {
   "cell_type": "markdown",
   "metadata": {},
   "source": [
    "### Pick Session #17 for fit"
   ]
  },
  {
   "cell_type": "code",
   "execution_count": 4,
   "metadata": {},
   "outputs": [],
   "source": [
    "nSession = 17 # matlab index\n",
    "nSession = nSession - 1\n",
    "totTargets = nDataSet[0, nSession][7].flatten()\n",
    "unit_yes_trial = nDataSet[0, nSession][5]\n",
    "unit_no_trial = nDataSet[0, nSession][6]"
   ]
  },
  {
   "cell_type": "code",
   "execution_count": 5,
   "metadata": {
    "scrolled": true
   },
   "outputs": [],
   "source": [
    "from pybasicbayes.util.text import progprint_xrange\n",
    "from pylds.util import random_rotation\n",
    "from pyslds.models import DefaultSLDS, HMMSLDS\n",
    "import numpy.random as npr\n",
    "from pybasicbayes.distributions import DiagonalRegression, Gaussian, Regression"
   ]
  },
  {
   "cell_type": "code",
   "execution_count": 6,
   "metadata": {},
   "outputs": [],
   "source": [
    "unit_trial = np.concatenate((unit_yes_trial, unit_no_trial))\n",
    "numTrial, numUnit, numTime = unit_trial.shape"
   ]
  },
  {
   "cell_type": "markdown",
   "metadata": {},
   "source": [
    "### initialize the C and D matrix using Factor analysis"
   ]
  },
  {
   "cell_type": "code",
   "execution_count": 7,
   "metadata": {},
   "outputs": [],
   "source": [
    "factor_unit_trial = unit_trial.transpose([0, 2, 1])\n",
    "factor_unit_trial = factor_unit_trial.reshape([-1, factor_unit_trial.shape[2]])"
   ]
  },
  {
   "cell_type": "code",
   "execution_count": 8,
   "metadata": {},
   "outputs": [],
   "source": [
    "np.random.seed(12345678)\n",
    "# transition\n",
    "K = 8\n",
    "yDim = numUnit\n",
    "xDim = 5\n",
    "inputDim = 1 # some constants\n",
    "inputs = np.ones((numTime, inputDim))"
   ]
  },
  {
   "cell_type": "code",
   "execution_count": 9,
   "metadata": {},
   "outputs": [],
   "source": [
    "estimator = factan(n_components=xDim, tol=0.000001, copy=True, \n",
    "                   max_iter=1000, noise_variance_init=None, \n",
    "                   svd_method='randomized', iterated_power=3, \n",
    "                   random_state=None)"
   ]
  },
  {
   "cell_type": "code",
   "execution_count": 10,
   "metadata": {},
   "outputs": [],
   "source": [
    "estimator.fit(factor_unit_trial)\n",
    "C_init = estimator.components_.T\n",
    "D_init = estimator.mean_.reshape([-1, 1])"
   ]
  },
  {
   "cell_type": "markdown",
   "metadata": {},
   "source": [
    "### Set up HMMSLDS code\n",
    "#### DefaultsSLDS using Regression for both latent and observations\n",
    "#### HMMSLDS can be flexible using DiagonalRegression for either of them"
   ]
  },
  {
   "cell_type": "code",
   "execution_count": 11,
   "metadata": {},
   "outputs": [],
   "source": [
    "# test_model = DefaultSLDS(K, yDim, xDim, inputDim,\n",
    "#                          Cs=Cs,\n",
    "#                          Ds=Ds)\n"
   ]
  },
  {
   "cell_type": "code",
   "execution_count": 12,
   "metadata": {},
   "outputs": [],
   "source": [
    "# Initialize init_dynamics_distns\n",
    "# nu_0 -- nu_0 is a concentration parameter (It has to be at least dim+1. Difference between 1 and 3 was arbitrary)\n",
    "init_dynamics_distns = [Gaussian(nu_0=xDim+3, \n",
    "                                 sigma_0=3.*np.eye(xDim), \n",
    "                                 mu_0=np.zeros(xDim), \n",
    "                                 kappa_0=0.01) \n",
    "                        for _ in range(K)]\n",
    "# Initialize dynamics distributions\n",
    "dynamics_distns = [Regression(nu_0=xDim + 1,\n",
    "                              S_0=xDim * np.eye(xDim),\n",
    "                              M_0=np.hstack((.99 * np.eye(xDim), np.zeros((xDim, inputDim)))),\n",
    "                              K_0=xDim * np.eye(xDim + inputDim))\n",
    "                   for _ in range(K)]\n",
    "\n",
    "As = [np.eye(xDim) for _ in range(K)]\n",
    "if inputDim > 0:\n",
    "    As = [np.hstack((A, np.zeros((xDim, inputDim))))\n",
    "          for A in As]\n",
    "for dd, A in zip(dynamics_distns, As):\n",
    "    dd.A = A\n",
    "\n",
    "sigma_statess = [np.eye(xDim) for _ in range(K)]\n",
    "for dd, sigma in zip(dynamics_distns, sigma_statess):\n",
    "    dd.sigma = sigma\n",
    "\n",
    "# Initialize emission distributions\n",
    "# alpha_0, beta_0 -- \n",
    "emission_distns = [DiagonalRegression(yDim, xDim + inputDim,\n",
    "                                      mu_0=None, Sigma_0=None, \n",
    "                                      alpha_0=3.0, beta_0=2.0, \n",
    "                                      A=np.hstack((C_init.copy(), D_init.copy())), \n",
    "                                      sigmasq=None, niter=1)\n",
    "                   for _ in range(K)]\n",
    "\n",
    "\n",
    "train_model = HMMSLDS(\n",
    "    init_dynamics_distns= init_dynamics_distns,\n",
    "    dynamics_distns= dynamics_distns,\n",
    "    emission_distns= emission_distns,\n",
    "    alpha=3., init_state_distn='uniform')"
   ]
  },
  {
   "cell_type": "markdown",
   "metadata": {},
   "source": [
    "#### Add data to model for each trial"
   ]
  },
  {
   "cell_type": "code",
   "execution_count": 13,
   "metadata": {},
   "outputs": [],
   "source": [
    "for trial in range(numTrial):\n",
    "    train_model.add_data(unit_trial[trial].T, inputs=inputs)"
   ]
  },
  {
   "cell_type": "markdown",
   "metadata": {},
   "source": [
    "#### Fit with Gibbs"
   ]
  },
  {
   "cell_type": "code",
   "execution_count": 14,
   "metadata": {},
   "outputs": [
    {
     "name": "stdout",
     "output_type": "stream",
     "text": [
      "Initializing with Gibbs\n",
      "..........\n",
      "   1.36sec avg, 13.61 total\n",
      "\n"
     ]
    }
   ],
   "source": [
    "print(\"Initializing with Gibbs\")\n",
    "N_gibbs_samples = 10\n",
    "def initialize(model):\n",
    "    model.resample_model()\n",
    "    return model.log_likelihood()\n",
    "\n",
    "gibbs_lls = [initialize(train_model) for _ in progprint_xrange(N_gibbs_samples)]"
   ]
  },
  {
   "cell_type": "markdown",
   "metadata": {},
   "source": [
    "#### Fit with VBEM\n",
    "This step can be skip??"
   ]
  },
  {
   "cell_type": "code",
   "execution_count": 15,
   "metadata": {},
   "outputs": [
    {
     "name": "stdout",
     "output_type": "stream",
     "text": [
      "Fitting with VBEM\n",
      "..........\n",
      "   2.11sec avg, 21.14 total\n",
      "\n"
     ]
    }
   ],
   "source": [
    "# Fit with VBEM\n",
    "print(\"Fitting with VBEM\")\n",
    "N_vbem_iters = 10\n",
    "def update(model):\n",
    "    model.VBEM_step()\n",
    "    return model.log_likelihood()\n",
    "\n",
    "train_model._init_mf_from_gibbs()\n",
    "vbem_lls = [update(train_model) for _ in progprint_xrange(N_vbem_iters)]"
   ]
  },
  {
   "cell_type": "code",
   "execution_count": 16,
   "metadata": {},
   "outputs": [],
   "source": [
    "from matplotlib.gridspec import GridSpec\n",
    "import seaborn as sns\n",
    "from hips.plotting.colormaps import gradient_cmap\n",
    "sns.set_style(\"white\")\n",
    "sns.set_context(\"paper\")\n",
    "\n",
    "color_names = [\"red\", \"windows blue\", \"medium green\", \"dusty purple\", \"orange\", \"amber\", \"clay\", \"pink\",\n",
    "               \"greyish\", \"light cyan\", \"steel blue\", \"forest green\", \"pastel purple\", \"mint\", \"salmon\", \"dark brown\"]\n",
    "colors = sns.xkcd_palette(color_names)\n",
    "cmap = gradient_cmap(colors)"
   ]
  },
  {
   "cell_type": "code",
   "execution_count": 17,
   "metadata": {},
   "outputs": [
    {
     "data": {
      "image/png": "[encoded data removed]",
      "text/plain": [
       "<matplotlib.figure.Figure at 0x126d94750>"
      ]
     },
     "metadata": {},
     "output_type": "display_data"
    }
   ],
   "source": [
    "# Plot the log likelihoods\n",
    "plt.figure(figsize=(10,6))\n",
    "# plt.plot(np.arange(N_gibbs_samples), gibbs_lls, color=colors[0], label=\"gibbs\")\n",
    "# plt.plot(np.arange(N_gibbs_samples + 1, N_gibbs_samples + N_vbem_iters), vbem_lls[1:], color=colors[1], label=\"vbem\")\n",
    "# plt.xlim(0, N_gibbs_samples + N_vbem_iters)\n",
    "plt.plot(gibbs_lls, color=colors[0], label=\"gibbs\")\n",
    "plt.plot(np.array(vbem_lls), color=colors[1], label=\"vbem\")\n",
    "# plt.xlim([950, 1000])\n",
    "plt.xlabel('iteration')\n",
    "plt.ylabel('log likelihood')\n",
    "plt.legend(loc=\"lower right\")\n",
    "plt.tight_layout()\n",
    "# plt.savefig(\"aux/demo_ll.png\")"
   ]
  },
  {
   "cell_type": "code",
   "execution_count": 18,
   "metadata": {},
   "outputs": [],
   "source": [
    "test_model = train_model"
   ]
  },
  {
   "cell_type": "code",
   "execution_count": 19,
   "metadata": {},
   "outputs": [],
   "source": [
    "mask = np.ones((numTime, numUnit), dtype=bool)\n",
    "# leave out the last neuron\n",
    "mask[:,-1] = False\n",
    "# add the test data\n",
    "for trial in range(numTrial):\n",
    "    test_model.add_data(unit_trial[trial].T, inputs=inputs, mask=mask)\n",
    "# test_model.add_data(test_trial, inputs=np.ones((numTime, inputDim)), mask=mask)\n",
    "# get the “states” object associated with the test data\n",
    "test_states = test_model.states_list.pop()\n",
    "# fit the discrete and continuous states with the held out neuron"
   ]
  },
  {
   "cell_type": "code",
   "execution_count": 20,
   "metadata": {},
   "outputs": [
    {
     "name": "stdout",
     "output_type": "stream",
     "text": [
      "7\n"
     ]
    },
    {
     "ename": "AttributeError",
     "evalue": "'list' object has no attribute 'shape'",
     "output_type": "error",
     "traceback": [
      "\u001b[0;31m---------------------------------------------------------------------------\u001b[0m",
      "\u001b[0;31mAttributeError\u001b[0m                            Traceback (most recent call last)",
      "\u001b[0;32m<ipython-input-20-81a623849b7e>\u001b[0m in \u001b[0;36m<module>\u001b[0;34m()\u001b[0m\n\u001b[1;32m      1\u001b[0m \u001b[0;32mfor\u001b[0m \u001b[0mintr\u001b[0m \u001b[0;32min\u001b[0m \u001b[0mrange\u001b[0m\u001b[0;34m(\u001b[0m\u001b[0;36m100\u001b[0m\u001b[0;34m)\u001b[0m\u001b[0;34m:\u001b[0m\u001b[0;34m\u001b[0m\u001b[0m\n\u001b[0;32m----> 2\u001b[0;31m     \u001b[0mtest_states\u001b[0m\u001b[0;34m.\u001b[0m\u001b[0mresample\u001b[0m\u001b[0;34m(\u001b[0m\u001b[0;34m)\u001b[0m\u001b[0;34m\u001b[0m\u001b[0m\n\u001b[0m\u001b[1;32m      3\u001b[0m \u001b[0;31m# get the latent states\u001b[0m\u001b[0;34m\u001b[0m\u001b[0;34m\u001b[0m\u001b[0m\n\u001b[1;32m      4\u001b[0m \u001b[0mz_test\u001b[0m \u001b[0;34m=\u001b[0m \u001b[0mtest_states\u001b[0m\u001b[0;34m.\u001b[0m\u001b[0mstateseq\u001b[0m\u001b[0;34m\u001b[0m\u001b[0m\n\u001b[1;32m      5\u001b[0m \u001b[0mx_test\u001b[0m \u001b[0;34m=\u001b[0m \u001b[0mtest_states\u001b[0m\u001b[0;34m.\u001b[0m\u001b[0mgaussian_states\u001b[0m\u001b[0;34m\u001b[0m\u001b[0m\n",
      "\u001b[0;32m/Users/dalin/Documents/My_Research/Dataset/Paninski_Lab_Alg/pyslds/pyslds/states.py\u001b[0m in \u001b[0;36mresample\u001b[0;34m(self, niter)\u001b[0m\n\u001b[1;32m    416\u001b[0m         \u001b[0;32mfor\u001b[0m \u001b[0mitr\u001b[0m \u001b[0;32min\u001b[0m \u001b[0mrange\u001b[0m\u001b[0;34m(\u001b[0m\u001b[0mniter\u001b[0m\u001b[0;34m)\u001b[0m\u001b[0;34m:\u001b[0m\u001b[0;34m\u001b[0m\u001b[0m\n\u001b[1;32m    417\u001b[0m             \u001b[0mself\u001b[0m\u001b[0;34m.\u001b[0m\u001b[0mresample_discrete_states\u001b[0m\u001b[0;34m(\u001b[0m\u001b[0;34m)\u001b[0m\u001b[0;34m\u001b[0m\u001b[0m\n\u001b[0;32m--> 418\u001b[0;31m             \u001b[0mself\u001b[0m\u001b[0;34m.\u001b[0m\u001b[0mresample_gaussian_states\u001b[0m\u001b[0;34m(\u001b[0m\u001b[0;34m)\u001b[0m\u001b[0;34m\u001b[0m\u001b[0m\n\u001b[0m\u001b[1;32m    419\u001b[0m \u001b[0;34m\u001b[0m\u001b[0m\n\u001b[1;32m    420\u001b[0m     \u001b[0;32mdef\u001b[0m \u001b[0m_init_gibbs_from_mf\u001b[0m\u001b[0;34m(\u001b[0m\u001b[0mself\u001b[0m\u001b[0;34m)\u001b[0m\u001b[0;34m:\u001b[0m\u001b[0;34m\u001b[0m\u001b[0m\n",
      "\u001b[0;32m/Users/dalin/Documents/My_Research/Dataset/Paninski_Lab_Alg/pyslds/pyslds/states.py\u001b[0m in \u001b[0;36mresample_gaussian_states\u001b[0;34m(self)\u001b[0m\n\u001b[1;32m    427\u001b[0m         \u001b[0mself\u001b[0m\u001b[0;34m.\u001b[0m\u001b[0m_aBl\u001b[0m \u001b[0;34m=\u001b[0m \u001b[0mNone\u001b[0m  \u001b[0;31m# clear any caching\u001b[0m\u001b[0;34m\u001b[0m\u001b[0m\n\u001b[1;32m    428\u001b[0m         \u001b[0mself\u001b[0m\u001b[0;34m.\u001b[0m\u001b[0m_gaussian_normalizer\u001b[0m\u001b[0;34m,\u001b[0m \u001b[0mself\u001b[0m\u001b[0;34m.\u001b[0m\u001b[0mgaussian_states\u001b[0m \u001b[0;34m=\u001b[0m\u001b[0;31m \u001b[0m\u001b[0;31m\\\u001b[0m\u001b[0;34m\u001b[0m\u001b[0m\n\u001b[0;32m--> 429\u001b[0;31m             \u001b[0minfo_sample\u001b[0m\u001b[0;34m(\u001b[0m\u001b[0;34m*\u001b[0m\u001b[0mself\u001b[0m\u001b[0;34m.\u001b[0m\u001b[0minfo_params\u001b[0m\u001b[0;34m)\u001b[0m\u001b[0;34m\u001b[0m\u001b[0m\n\u001b[0m\u001b[1;32m    430\u001b[0m \u001b[0;34m\u001b[0m\u001b[0m\n\u001b[1;32m    431\u001b[0m \u001b[0;34m\u001b[0m\u001b[0m\n",
      "\u001b[0;32m/Users/dalin/Documents/My_Research/Dataset/Paninski_Lab_Alg/pyslds/pyslds/states.py\u001b[0m in \u001b[0;36minfo_params\u001b[0;34m(self)\u001b[0m\n\u001b[1;32m    303\u001b[0m     \u001b[0;34m@\u001b[0m\u001b[0mproperty\u001b[0m\u001b[0;34m\u001b[0m\u001b[0m\n\u001b[1;32m    304\u001b[0m     \u001b[0;32mdef\u001b[0m \u001b[0minfo_params\u001b[0m\u001b[0;34m(\u001b[0m\u001b[0mself\u001b[0m\u001b[0;34m)\u001b[0m\u001b[0;34m:\u001b[0m\u001b[0;34m\u001b[0m\u001b[0m\n\u001b[0;32m--> 305\u001b[0;31m         \u001b[0;32mreturn\u001b[0m \u001b[0mself\u001b[0m\u001b[0;34m.\u001b[0m\u001b[0minfo_init_params\u001b[0m \u001b[0;34m+\u001b[0m \u001b[0mself\u001b[0m\u001b[0;34m.\u001b[0m\u001b[0minfo_dynamics_params\u001b[0m \u001b[0;34m+\u001b[0m \u001b[0mself\u001b[0m\u001b[0;34m.\u001b[0m\u001b[0minfo_emission_params\u001b[0m\u001b[0;34m\u001b[0m\u001b[0m\n\u001b[0m\u001b[1;32m    306\u001b[0m \u001b[0;34m\u001b[0m\u001b[0m\n\u001b[1;32m    307\u001b[0m     \u001b[0;34m@\u001b[0m\u001b[0mproperty\u001b[0m\u001b[0;34m\u001b[0m\u001b[0m\n",
      "\u001b[0;32m/Users/dalin/Documents/My_Research/Dataset/Paninski_Lab_Alg/pyslds/pyslds/states.py\u001b[0m in \u001b[0;36minfo_emission_params\u001b[0;34m(self)\u001b[0m\n\u001b[1;32m    900\u001b[0m             \u001b[0mz\u001b[0m \u001b[0;34m=\u001b[0m \u001b[0mself\u001b[0m\u001b[0;34m.\u001b[0m\u001b[0mstateseq\u001b[0m\u001b[0;34m\u001b[0m\u001b[0m\n\u001b[1;32m    901\u001b[0m             \u001b[0;32mprint\u001b[0m\u001b[0;34m(\u001b[0m\u001b[0mz\u001b[0m\u001b[0;34m.\u001b[0m\u001b[0mmax\u001b[0m\u001b[0;34m(\u001b[0m\u001b[0;34m)\u001b[0m\u001b[0;34m)\u001b[0m\u001b[0;34m\u001b[0m\u001b[0m\n\u001b[0;32m--> 902\u001b[0;31m             \u001b[0;32mprint\u001b[0m\u001b[0;34m(\u001b[0m\u001b[0msigmasq_inv_set\u001b[0m\u001b[0;34m.\u001b[0m\u001b[0mshape\u001b[0m\u001b[0;34m)\u001b[0m\u001b[0;34m\u001b[0m\u001b[0m\n\u001b[0m\u001b[1;32m    903\u001b[0m             \u001b[0msigmasq_inv\u001b[0m \u001b[0;34m=\u001b[0m \u001b[0msigmasq_inv_set\u001b[0m\u001b[0;34m[\u001b[0m\u001b[0mz\u001b[0m\u001b[0;34m]\u001b[0m\u001b[0;34m\u001b[0m\u001b[0m\n\u001b[1;32m    904\u001b[0m             \u001b[0mC\u001b[0m \u001b[0;34m=\u001b[0m \u001b[0mC_set\u001b[0m\u001b[0;34m[\u001b[0m\u001b[0mz\u001b[0m\u001b[0;34m]\u001b[0m\u001b[0;34m\u001b[0m\u001b[0m\n",
      "\u001b[0;31mAttributeError\u001b[0m: 'list' object has no attribute 'shape'"
     ]
    }
   ],
   "source": [
    "for intr in range(100):\n",
    "    test_states.resample()\n",
    "# get the latent states\n",
    "z_test = test_states.stateseq\n",
    "x_test = test_states.gaussian_states"
   ]
  },
  {
   "cell_type": "code",
   "execution_count": null,
   "metadata": {},
   "outputs": [],
   "source": [
    "# Smooth the data\n",
    "smoothed_data = test_model.smooth(unit_trial, inputs=inputs)"
   ]
  },
  {
   "cell_type": "code",
   "execution_count": null,
   "metadata": {},
   "outputs": [],
   "source": [
    "fig = plt.figure(figsize=(10,80))\n",
    "gs = GridSpec(3, 1, height_ratios=[.1, .1, 1.0])\n",
    "ax = fig.add_subplot(gs[1,0])\n",
    "timeRange = params['timeSeries'][0][0].flatten()\n",
    "ax.imshow(test_model.states_list[0].stateseq.reshape(numTrial, numTime), vmin=0, vmax=max(len(colors), test_model.num_states)-1,\n",
    "          cmap=cmap, interpolation=\"nearest\", extent=[timeRange.min(),timeRange.max(),numTrial,1], aspect='auto')\n",
    "ax.set_xticks([timeRange.min(), -2.6, -1.2, 0,timeRange.max()])\n",
    "ax.set_yticks([numTrial, totTargets.sum(),1])\n",
    "ax.set_xlabel('Time from movement(sec)')\n",
    "ax.set_ylabel('Trial index')\n",
    "ax.set_title(\"Inferred Discrete States\")\n",
    "plt.show()\n",
    "\n",
    "# ax = fig.add_subplot(gs[2,0])\n",
    "# plt.plot(y[:,0], color='k', lw=2, label=\"observed\")\n",
    "# plt.plot(smoothed_data[:,0], color=colors[0], lw=1, label=\"smoothed\")\n",
    "# plt.xlabel(\"Time\")\n",
    "# plt.xlim(0, min(T, 500))\n",
    "# plt.ylabel(\"Observations\")\n",
    "# plt.legend(loc=\"upper center\", ncol=2)\n",
    "# plt.tight_layout()\n",
    "# # d\n",
    "# # \n",
    "# plt.figure()\n",
    "# from pyhsmm.util.general import rle\n",
    "# z_rle = rle(z)\n",
    "# offset = 0\n",
    "# for k, dur in zip(*z_rle):\n",
    "#     plt.plot(x[offset:offset+dur,0], x[offset:offset+dur,1], color=colors[k])\n",
    "#     offset += dur\n",
    "\n",
    "# plt.xlabel(\"$x_1$\")\n",
    "# plt.ylabel(\"$x_2$\")\n",
    "# plt.title(\"Continuous Latent States\")\n",
    "# plt.show()"
   ]
  },
  {
   "cell_type": "code",
   "execution_count": null,
   "metadata": {},
   "outputs": [],
   "source": []
  }
 ],
 "metadata": {
  "kernelspec": {
   "display_name": "Python 2",
   "language": "python",
   "name": "python2"
  },
  "language_info": {
   "codemirror_mode": {
    "name": "ipython",
    "version": 2
   },
   "file_extension": ".py",
   "mimetype": "text/x-python",
   "name": "python",
   "nbconvert_exporter": "python",
   "pygments_lexer": "ipython2",
   "version": "2.7.14"
  }
 },
 "nbformat": 4,
 "nbformat_minor": 2
}
