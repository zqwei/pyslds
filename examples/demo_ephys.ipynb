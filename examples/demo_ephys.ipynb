{
 "cells": [
  {
   "cell_type": "markdown",
   "metadata": {},
   "source": [
    "### Load mat data"
   ]
  },
  {
   "cell_type": "code",
   "execution_count": 3,
   "metadata": {},
   "outputs": [],
   "source": [
    "import scipy.io as sio\n",
    "import numpy as np\n",
    "import matplotlib.pyplot as plt\n",
    "%matplotlib inline\n",
    "from __future__ import division"
   ]
  },
  {
   "cell_type": "code",
   "execution_count": 4,
   "metadata": {},
   "outputs": [],
   "source": [
    "mat_contents = sio.loadmat('/Users/dalin/Documents/My_Research/Dataset/ALM_Svoboda_Lab_Data/Code/TLDS/TempDat/Simultaneous_Spikes.mat')"
   ]
  },
  {
   "cell_type": "code",
   "execution_count": 106,
   "metadata": {},
   "outputs": [],
   "source": [
    "nDataSet = mat_contents['nDataSet']\n",
    "params = mat_contents['params']"
   ]
  },
  {
   "cell_type": "code",
   "execution_count": 110,
   "metadata": {},
   "outputs": [
    {
     "data": {
      "text/plain": [
       "array([array([[-3.09973046, -3.03234501, -2.96495957, -2.89757412, -2.83018868,\n",
       "        -2.76280323, -2.69541779, -2.62803235, -2.5606469 , -2.49326146,\n",
       "        -2.42587601, -2.35849057, -2.29110512, -2.22371968, -2.15633423,\n",
       "        -2.08894879, -2.02156334, -1.9541779 , -1.88679245, -1.81940701,\n",
       "        -1.75202156, -1.68463612, -1.61725067, -1.54986523, -1.48247978,\n",
       "        -1.41509434, -1.34770889, -1.28032345, -1.21293801, -1.14555256,\n",
       "        -1.07816712, -1.01078167, -0.94339623, -0.87601078, -0.80862534,\n",
       "        -0.74123989, -0.67385445, -0.606469  , -0.53908356, -0.47169811,\n",
       "        -0.40431267, -0.33692722, -0.26954178, -0.20215633, -0.13477089,\n",
       "        -0.06738544,  0.        ,  0.06738544,  0.13477089,  0.20215633,\n",
       "         0.26954178,  0.33692722,  0.40431267,  0.47169811,  0.53908356,\n",
       "         0.606469  ,  0.67385445,  0.74123989,  0.80862534,  0.87601078,\n",
       "         0.94339623,  1.01078167,  1.07816712,  1.14555256,  1.21293801,\n",
       "         1.28032345,  1.34770889,  1.41509434,  1.48247978,  1.54986523,\n",
       "         1.61725067,  1.68463612,  1.75202156,  1.81940701,  1.88679245,\n",
       "         1.9541779 ,  2.02156334]])], dtype=object)"
      ]
     },
     "execution_count": 110,
     "metadata": {},
     "output_type": "execute_result"
    }
   ],
   "source": [
    "params['timeSeries'].flatten()"
   ]
  },
  {
   "cell_type": "code",
   "execution_count": 44,
   "metadata": {},
   "outputs": [
    {
     "data": {
      "text/plain": [
       "array([181.832,  88.666, 148.   ,  85.833, 100.666, 135.491,  75.333,\n",
       "        84.167,  75.333, 105.166,  90.499, 125.166,  71.666,  51.333,\n",
       "        90.833,  77.667, 120.333, 139.833, 103.833,  95.833, 136.499,\n",
       "       113.499, 111.166,  67.166, 180.499, 105.5  , 117.5  ,  85.666,\n",
       "        75.333, 137.999,  76.833, 107.999,  91.5  ,  86.999, 100.833,\n",
       "        65.667, 141.666,  96.996,  59.833, 137.832, 114.833,  80.5  ,\n",
       "       106.499, 104.166, 190.333, 110.166,  68.5  ])"
      ]
     },
     "execution_count": 44,
     "metadata": {},
     "output_type": "execute_result"
    }
   ],
   "source": [
    "nDataSet[0, 0][0].flatten()[0] # sessionIndex\n",
    "nDataSet[0, 0][1].flatten() # nUnit\n",
    "nDataSet[0, 0][2] # unitROCIndex\n",
    "nDataSet[0, 0][3].flatten() # unit_yes_trial_index\n",
    "nDataSet[0, 0][4].flatten() # unit_no_trial_index\n",
    "nDataSet[0, 0][5] # unit_yes_trial, trial x unit x Time\n",
    "nDataSet[0, 0][6] # unit_no_trial, trial x unit x Time\n",
    "nDataSet[0, 0][7].flatten() # totTargets\n",
    "nDataSet[0, 0][8].flatten() # firstLickTime"
   ]
  },
  {
   "cell_type": "code",
   "execution_count": 48,
   "metadata": {},
   "outputs": [],
   "source": [
    "nSession = 17 # matlab index\n",
    "nSession = nSession - 1\n",
    "totTargets = nDataSet[0, nSession][7].flatten()\n",
    "unit_yes_trial = nDataSet[0, nSession][5]\n",
    "unit_no_trial = nDataSet[0, nSession][6]"
   ]
  },
  {
   "cell_type": "code",
   "execution_count": 77,
   "metadata": {
    "scrolled": true
   },
   "outputs": [],
   "source": [
    "from pybasicbayes.util.text import progprint_xrange\n",
    "from pylds.util import random_rotation\n",
    "from pyslds.models import DefaultSLDS\n",
    "import numpy.random as npr"
   ]
  },
  {
   "cell_type": "code",
   "execution_count": 73,
   "metadata": {},
   "outputs": [],
   "source": [
    "unit_trial = np.concatenate((unit_yes_trial, unit_no_trial))\n",
    "numTrial, numUnit, numTime = unit_trial.shape\n",
    "unit_trial = unit_trial.transpose([0, 2, 1])\n",
    "unit_trial = unit_trial.reshape([-1, unit_trial.shape[2]])"
   ]
  },
  {
   "cell_type": "code",
   "execution_count": 74,
   "metadata": {},
   "outputs": [
    {
     "data": {
      "text/plain": [
       "[<matplotlib.lines.Line2D at 0x1a1ed10dd0>]"
      ]
     },
     "execution_count": 74,
     "metadata": {},
     "output_type": "execute_result"
    },
    {
     "data": {
      "image/png": "[encoded data removed]",
      "text/plain": [
       "<matplotlib.figure.Figure at 0x1a1ec81fd0>"
      ]
     },
     "metadata": {},
     "output_type": "display_data"
    }
   ],
   "source": [
    "# plt.plot(unit_trial[:, 8].reshape(numTrial, numTime)[40,:])"
   ]
  },
  {
   "cell_type": "code",
   "execution_count": 75,
   "metadata": {},
   "outputs": [],
   "source": [
    "# transition\n",
    "K = 8\n",
    "yDim = numUnit\n",
    "xDim = 5\n",
    "inputDim = 1 # some constants"
   ]
  },
  {
   "cell_type": "code",
   "execution_count": 78,
   "metadata": {},
   "outputs": [],
   "source": [
    "test_model = DefaultSLDS(K, yDim, xDim, inputDim,\n",
    "                         Cs=npr.randn(yDim, xDim),\n",
    "                         Ds=npr.randn(yDim, inputDim))"
   ]
  },
  {
   "cell_type": "code",
   "execution_count": 79,
   "metadata": {},
   "outputs": [],
   "source": [
    "inputs = np.ones((numTrial * numTime, inputDim))"
   ]
  },
  {
   "cell_type": "code",
   "execution_count": 81,
   "metadata": {},
   "outputs": [
    {
     "data": {
      "text/plain": [
       "<pyslds.states.HMMSLDSStatesEigen at 0x1a1ea3b750>"
      ]
     },
     "execution_count": 81,
     "metadata": {},
     "output_type": "execute_result"
    }
   ],
   "source": [
    "test_model.add_data(unit_trial, inputs=inputs)"
   ]
  },
  {
   "cell_type": "code",
   "execution_count": 82,
   "metadata": {},
   "outputs": [
    {
     "name": "stdout",
     "output_type": "stream",
     "text": [
      "Initializing with Gibbs\n",
      ".........................  [   25/1000,    0.11sec avg, ETA 01:50 ]\n",
      ".........................  [   50/1000,    0.11sec avg, ETA 01:46 ]\n",
      ".........................  [   75/1000,    0.11sec avg, ETA 01:43 ]\n",
      ".........................  [  100/1000,    0.11sec avg, ETA 01:41 ]\n",
      ".........................  [  125/1000,    0.11sec avg, ETA 01:38 ]\n",
      ".........................  [  150/1000,    0.11sec avg, ETA 01:35 ]\n",
      ".........................  [  175/1000,    0.11sec avg, ETA 01:32 ]\n",
      ".........................  [  200/1000,    0.11sec avg, ETA 01:29 ]\n",
      ".........................  [  225/1000,    0.11sec avg, ETA 01:26 ]\n",
      ".........................  [  250/1000,    0.11sec avg, ETA 01:23 ]\n",
      ".........................  [  275/1000,    0.11sec avg, ETA 01:20 ]\n",
      ".........................  [  300/1000,    0.11sec avg, ETA 01:17 ]\n",
      ".........................  [  325/1000,    0.11sec avg, ETA 01:15 ]\n",
      ".........................  [  350/1000,    0.11sec avg, ETA 01:12 ]\n",
      ".........................  [  375/1000,    0.11sec avg, ETA 01:09 ]\n",
      ".........................  [  400/1000,    0.11sec avg, ETA 01:07 ]\n",
      ".........................  [  425/1000,    0.11sec avg, ETA 01:04 ]\n",
      ".........................  [  450/1000,    0.11sec avg, ETA 01:02 ]\n",
      ".........................  [  475/1000,    0.11sec avg, ETA 59.21 ]\n",
      ".........................  [  500/1000,    0.11sec avg, ETA 56.57 ]\n",
      ".........................  [  525/1000,    0.11sec avg, ETA 53.80 ]\n",
      ".........................  [  550/1000,    0.11sec avg, ETA 51.07 ]\n",
      ".........................  [  575/1000,    0.11sec avg, ETA 48.49 ]\n",
      ".........................  [  600/1000,    0.11sec avg, ETA 45.67 ]\n",
      ".........................  [  625/1000,    0.11sec avg, ETA 42.99 ]\n",
      ".........................  [  650/1000,    0.11sec avg, ETA 40.12 ]\n",
      ".........................  [  675/1000,    0.11sec avg, ETA 37.25 ]\n",
      ".........................  [  700/1000,    0.11sec avg, ETA 34.37 ]\n",
      ".........................  [  725/1000,    0.11sec avg, ETA 31.55 ]\n",
      ".........................  [  750/1000,    0.11sec avg, ETA 28.60 ]\n",
      ".........................  [  775/1000,    0.11sec avg, ETA 25.69 ]\n",
      ".........................  [  800/1000,    0.11sec avg, ETA 22.86 ]\n",
      ".........................  [  825/1000,    0.11sec avg, ETA 19.99 ]\n",
      ".........................  [  850/1000,    0.11sec avg, ETA 17.13 ]\n",
      ".........................  [  875/1000,    0.11sec avg, ETA 14.33 ]\n",
      ".........................  [  900/1000,    0.12sec avg, ETA 11.52 ]\n",
      ".........................  [  925/1000,    0.12sec avg, ETA 8.64 ]\n",
      ".........................  [  950/1000,    0.12sec avg, ETA 5.77 ]\n",
      ".........................  [  975/1000,    0.12sec avg, ETA 2.89 ]\n",
      ".........................  [ 1000/1000,    0.12sec avg, ETA 0.00 ]\n",
      "\n",
      "   0.12sec avg, 01:56 total\n",
      "\n"
     ]
    }
   ],
   "source": [
    "print(\"Initializing with Gibbs\")\n",
    "N_gibbs_samples = 1000\n",
    "def initialize(model):\n",
    "    model.resample_model()\n",
    "    return model.log_likelihood()\n",
    "\n",
    "gibbs_lls = [initialize(test_model) for _ in progprint_xrange(N_gibbs_samples)]"
   ]
  },
  {
   "cell_type": "code",
   "execution_count": 83,
   "metadata": {},
   "outputs": [
    {
     "name": "stdout",
     "output_type": "stream",
     "text": [
      "Fitting with VBEM\n",
      ".........................  [   25/1000,    0.22sec avg, ETA 03:33 ]\n",
      "...................."
     ]
    },
    {
     "name": "stderr",
     "output_type": "stream",
     "text": [
      "/Users/dalin/anaconda/envs/py2/lib/python2.7/site-packages/pyhsmm/internals/hmm_states.py:675: RuntimeWarning: divide by zero encountered in log\n",
      "  np.log(trans_potential),likelihood_log_potential,alphal,betal,\n"
     ]
    },
    {
     "name": "stdout",
     "output_type": "stream",
     "text": [
      ".....  [   50/1000,    0.22sec avg, ETA 03:26 ]\n",
      ".........................  [   75/1000,    0.22sec avg, ETA 03:19 ]\n",
      ".........................  [  100/1000,    0.22sec avg, ETA 03:15 ]\n",
      ".........................  [  125/1000,    0.22sec avg, ETA 03:09 ]\n",
      ".........................  [  150/1000,    0.21sec avg, ETA 03:02 ]\n",
      ".........................  [  175/1000,    0.21sec avg, ETA 02:56 ]\n",
      ".........................  [  200/1000,    0.21sec avg, ETA 02:51 ]\n",
      ".........................  [  225/1000,    0.21sec avg, ETA 02:45 ]\n",
      ".........................  [  250/1000,    0.21sec avg, ETA 02:39 ]\n",
      ".........................  [  275/1000,    0.21sec avg, ETA 02:34 ]\n",
      ".........................  [  300/1000,    0.21sec avg, ETA 02:29 ]\n",
      ".........................  [  325/1000,    0.21sec avg, ETA 02:23 ]\n",
      ".........................  [  350/1000,    0.21sec avg, ETA 02:18 ]\n",
      ".........................  [  375/1000,    0.21sec avg, ETA 02:13 ]\n",
      ".........................  [  400/1000,    0.21sec avg, ETA 02:07 ]\n",
      ".........................  [  425/1000,    0.21sec avg, ETA 02:02 ]\n",
      ".........................  [  450/1000,    0.21sec avg, ETA 01:58 ]\n",
      ".........................  [  475/1000,    0.22sec avg, ETA 01:54 ]\n",
      ".........................  [  500/1000,    0.22sec avg, ETA 01:49 ]\n",
      ".........................  [  525/1000,    0.22sec avg, ETA 01:43 ]\n",
      ".........................  [  550/1000,    0.22sec avg, ETA 01:38 ]\n",
      ".........................  [  575/1000,    0.22sec avg, ETA 01:33 ]\n",
      ".........................  [  600/1000,    0.22sec avg, ETA 01:28 ]\n",
      ".........................  [  625/1000,    0.22sec avg, ETA 01:22 ]\n",
      ".........................  [  650/1000,    0.22sec avg, ETA 01:16 ]\n",
      ".........................  [  675/1000,    0.22sec avg, ETA 01:10 ]\n",
      ".........................  [  700/1000,    0.22sec avg, ETA 01:05 ]\n",
      ".........................  [  725/1000,    0.22sec avg, ETA 59.16 ]\n",
      ".........................  [  750/1000,    0.21sec avg, ETA 53.59 ]\n",
      ".........................  [  775/1000,    0.21sec avg, ETA 48.09 ]\n",
      ".........................  [  800/1000,    0.21sec avg, ETA 42.63 ]\n",
      ".........................  [  825/1000,    0.21sec avg, ETA 37.21 ]\n",
      ".........................  [  850/1000,    0.21sec avg, ETA 31.82 ]\n",
      ".........................  [  875/1000,    0.21sec avg, ETA 26.46 ]\n",
      ".........................  [  900/1000,    0.21sec avg, ETA 21.13 ]\n",
      ".........................  [  925/1000,    0.21sec avg, ETA 15.82 ]\n",
      ".........................  [  950/1000,    0.21sec avg, ETA 10.53 ]\n",
      ".........................  [  975/1000,    0.21sec avg, ETA 5.26 ]\n",
      ".........................  [ 1000/1000,    0.21sec avg, ETA 0.00 ]\n",
      "\n",
      "   0.21sec avg, 03:30 total\n",
      "\n"
     ]
    }
   ],
   "source": [
    "# Fit with VBEM\n",
    "print(\"Fitting with VBEM\")\n",
    "N_vbem_iters = 1000\n",
    "def update(model):\n",
    "    model.VBEM_step()\n",
    "    return model.log_likelihood()\n",
    "\n",
    "test_model.states_list[0]._init_mf_from_gibbs()\n",
    "vbem_lls = [update(test_model) for _ in progprint_xrange(N_vbem_iters)]"
   ]
  },
  {
   "cell_type": "code",
   "execution_count": 84,
   "metadata": {},
   "outputs": [],
   "source": [
    "import matplotlib.pyplot as plt\n",
    "from matplotlib.gridspec import GridSpec\n",
    "\n",
    "# Fancy plotting\n",
    "try:\n",
    "    import seaborn as sns\n",
    "    from hips.plotting.colormaps import gradient_cmap\n",
    "    sns.set_style(\"white\")\n",
    "    sns.set_context(\"paper\")\n",
    "\n",
    "    color_names = [\"red\",\n",
    "                   \"windows blue\",\n",
    "                   \"medium green\",\n",
    "                   \"dusty purple\",\n",
    "                   \"orange\",\n",
    "                   \"amber\",\n",
    "                   \"clay\",\n",
    "                   \"pink\",\n",
    "                   \"greyish\",\n",
    "                   \"light cyan\",\n",
    "                   \"steel blue\",\n",
    "                   \"forest green\",\n",
    "                   \"pastel purple\",\n",
    "                   \"mint\",\n",
    "                   \"salmon\",\n",
    "                   \"dark brown\"]\n",
    "    colors = sns.xkcd_palette(color_names)\n",
    "    cmap = gradient_cmap(colors)\n",
    "except:\n",
    "    from matplotlib.cm import get_cmap\n",
    "    colors = ['b', 'r', 'y', 'g', 'purple']\n",
    "    cmap = get_cmap(\"jet\")"
   ]
  },
  {
   "cell_type": "code",
   "execution_count": 85,
   "metadata": {},
   "outputs": [
    {
     "data": {
      "image/png": "[encoded data removed]",
      "text/plain": [
       "<matplotlib.figure.Figure at 0x1a244e6650>"
      ]
     },
     "metadata": {},
     "output_type": "display_data"
    }
   ],
   "source": [
    "# Plot the log likelihoods\n",
    "plt.figure(figsize=(5,3))\n",
    "plt.plot([0, N_gibbs_samples + N_vbem_iters], true_model.log_likelihood() * np.ones(2), '--k', label=\"true\")\n",
    "plt.plot(np.arange(N_gibbs_samples), gibbs_lls, color=colors[0], label=\"gibbs\")\n",
    "plt.plot(np.arange(N_gibbs_samples + 1, N_gibbs_samples + N_vbem_iters), vbem_lls[1:], color=colors[1], label=\"vbem\")\n",
    "plt.xlim(0, N_gibbs_samples + N_vbem_iters)\n",
    "plt.xlabel('iteration')\n",
    "plt.ylabel('log likelihood')\n",
    "plt.legend(loc=\"lower right\")\n",
    "plt.tight_layout()\n",
    "# plt.savefig(\"aux/demo_ll.png\")"
   ]
  },
  {
   "cell_type": "code",
   "execution_count": 87,
   "metadata": {},
   "outputs": [],
   "source": [
    "# Smooth the data\n",
    "smoothed_data = test_model.smooth(unit_trial, inputs=inputs)"
   ]
  },
  {
   "cell_type": "code",
   "execution_count": 130,
   "metadata": {},
   "outputs": [
    {
     "data": {
      "image/png": "[encoded data removed]",
      "text/plain": [
       "<matplotlib.figure.Figure at 0x1a20476110>"
      ]
     },
     "metadata": {},
     "output_type": "display_data"
    }
   ],
   "source": [
    "fig = plt.figure(figsize=(5,40))\n",
    "# gs = GridSpec(3, 1, height_ratios=[.1, .1, 1.0])\n",
    "ax = fig.add_subplot(gs[1,0])\n",
    "timeRange = params['timeSeries'][0][0].flatten()\n",
    "ax.imshow(test_model.states_list[0].stateseq.reshape(numTrial, numTime), vmin=0, vmax=max(len(colors), test_model.num_states)-1,\n",
    "          cmap=cmap, interpolation=\"nearest\", extent=[timeRange.min(),timeRange.max(),numTrial,1], aspect='auto')\n",
    "ax.set_xticks([timeRange.min(), -2.6, -1.2, 0,timeRange.max()])\n",
    "ax.set_yticks([numTrial, totTargets.sum(),1])\n",
    "ax.set_xlabel('Time from movement(sec)')\n",
    "ax.set_ylabel('Trial index')\n",
    "ax.set_title(\"Inferred Discrete States\")\n",
    "plt.show()\n",
    "\n",
    "# ax = fig.add_subplot(gs[2,0])\n",
    "# plt.plot(y[:,0], color='k', lw=2, label=\"observed\")\n",
    "# plt.plot(smoothed_data[:,0], color=colors[0], lw=1, label=\"smoothed\")\n",
    "# plt.xlabel(\"Time\")\n",
    "# plt.xlim(0, min(T, 500))\n",
    "# plt.ylabel(\"Observations\")\n",
    "# plt.legend(loc=\"upper center\", ncol=2)\n",
    "# plt.tight_layout()\n",
    "# # d\n",
    "# # \n",
    "# plt.figure()\n",
    "# from pyhsmm.util.general import rle\n",
    "# z_rle = rle(z)\n",
    "# offset = 0\n",
    "# for k, dur in zip(*z_rle):\n",
    "#     plt.plot(x[offset:offset+dur,0], x[offset:offset+dur,1], color=colors[k])\n",
    "#     offset += dur\n",
    "\n",
    "# plt.xlabel(\"$x_1$\")\n",
    "# plt.ylabel(\"$x_2$\")\n",
    "# plt.title(\"Continuous Latent States\")\n",
    "# plt.show()"
   ]
  },
  {
   "cell_type": "code",
   "execution_count": 96,
   "metadata": {},
   "outputs": [
    {
     "data": {
      "text/plain": [
       "(13398,)"
      ]
     },
     "execution_count": 96,
     "metadata": {},
     "output_type": "execute_result"
    }
   ],
   "source": [
    "test_model.states_list[0].stateseq.shape"
   ]
  },
  {
   "cell_type": "code",
   "execution_count": 100,
   "metadata": {},
   "outputs": [
    {
     "data": {
      "text/plain": [
       "8"
      ]
     },
     "execution_count": 100,
     "metadata": {},
     "output_type": "execute_result"
    }
   ],
   "source": [
    "test_model.num_states"
   ]
  },
  {
   "cell_type": "code",
   "execution_count": 122,
   "metadata": {},
   "outputs": [],
   "source": [
    "timeRange = params['timeSeries'][0][0].flatten()"
   ]
  },
  {
   "cell_type": "code",
   "execution_count": 125,
   "metadata": {},
   "outputs": [
    {
     "data": {
      "text/plain": [
       "-3.099730458221024"
      ]
     },
     "execution_count": 125,
     "metadata": {},
     "output_type": "execute_result"
    }
   ],
   "source": [
    "timeRange.min()"
   ]
  },
  {
   "cell_type": "code",
   "execution_count": null,
   "metadata": {},
   "outputs": [],
   "source": []
  }
 ],
 "metadata": {
  "kernelspec": {
   "display_name": "Python 2",
   "language": "python",
   "name": "python2"
  },
  "language_info": {
   "codemirror_mode": {
    "name": "ipython",
    "version": 2
   },
   "file_extension": ".py",
   "mimetype": "text/x-python",
   "name": "python",
   "nbconvert_exporter": "python",
   "pygments_lexer": "ipython2",
   "version": "2.7.14"
  }
 },
 "nbformat": 4,
 "nbformat_minor": 2
}
