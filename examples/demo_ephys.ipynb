{
 "cells": [
  {
   "cell_type": "markdown",
   "metadata": {},
   "source": [
    "### Load mat data"
   ]
  },
  {
   "cell_type": "code",
   "execution_count": 1,
   "metadata": {},
   "outputs": [],
   "source": [
    "import scipy.io as sio\n",
    "import numpy as np\n",
    "import matplotlib.pyplot as plt\n",
    "%matplotlib inline\n",
    "from __future__ import division"
   ]
  },
  {
   "cell_type": "code",
   "execution_count": 2,
   "metadata": {},
   "outputs": [],
   "source": [
    "mat_contents = sio.loadmat('/Users/dalin/Documents/My_Research/Dataset/ALM_Svoboda_Lab_Data/Code/TLDS/TempDat/Simultaneous_Spikes.mat')"
   ]
  },
  {
   "cell_type": "code",
   "execution_count": 3,
   "metadata": {},
   "outputs": [],
   "source": [
    "nDataSet = mat_contents['nDataSet']\n",
    "params = mat_contents['params']"
   ]
  },
  {
   "cell_type": "code",
   "execution_count": 4,
   "metadata": {},
   "outputs": [],
   "source": [
    "# nDataSet[0, 0][0].flatten()[0] # sessionIndex\n",
    "# nDataSet[0, 0][1].flatten() # nUnit\n",
    "# nDataSet[0, 0][2] # unitROCIndex\n",
    "# nDataSet[0, 0][3].flatten() # unit_yes_trial_index\n",
    "# nDataSet[0, 0][4].flatten() # unit_no_trial_index\n",
    "# nDataSet[0, 0][5] # unit_yes_trial, trial x unit x Time\n",
    "# nDataSet[0, 0][6] # unit_no_trial, trial x unit x Time\n",
    "# nDataSet[0, 0][7].flatten() # totTargets\n",
    "# nDataSet[0, 0][8].flatten() # firstLickTime"
   ]
  },
  {
   "cell_type": "code",
   "execution_count": 5,
   "metadata": {},
   "outputs": [],
   "source": [
    "nSession = 17 # matlab index\n",
    "nSession = nSession - 1\n",
    "totTargets = nDataSet[0, nSession][7].flatten()\n",
    "unit_yes_trial = nDataSet[0, nSession][5]\n",
    "unit_no_trial = nDataSet[0, nSession][6]"
   ]
  },
  {
   "cell_type": "code",
   "execution_count": 6,
   "metadata": {
    "scrolled": true
   },
   "outputs": [],
   "source": [
    "from pybasicbayes.util.text import progprint_xrange\n",
    "from pylds.util import random_rotation\n",
    "from pyslds.models import DefaultSLDS\n",
    "import numpy.random as npr"
   ]
  },
  {
   "cell_type": "code",
   "execution_count": 7,
   "metadata": {},
   "outputs": [],
   "source": [
    "unit_trial = np.concatenate((unit_yes_trial, unit_no_trial))\n",
    "numTrial, numUnit, numTime = unit_trial.shape\n",
    "unit_trial = unit_trial.transpose([0, 2, 1])\n",
    "unit_trial = unit_trial.reshape([-1, unit_trial.shape[2]])"
   ]
  },
  {
   "cell_type": "code",
   "execution_count": 8,
   "metadata": {},
   "outputs": [],
   "source": [
    "# plt.plot(unit_trial[:, 8].reshape(numTrial, numTime)[40,:])"
   ]
  },
  {
   "cell_type": "code",
   "execution_count": 9,
   "metadata": {},
   "outputs": [],
   "source": [
    "np.random.seed(10)\n",
    "# transition\n",
    "K = 8\n",
    "yDim = numUnit\n",
    "xDim = 5\n",
    "inputDim = 1 # some constants\n",
    "inputs = np.ones((numTrial * numTime, inputDim))"
   ]
  },
  {
   "cell_type": "code",
   "execution_count": 10,
   "metadata": {},
   "outputs": [
    {
     "data": {
      "text/plain": [
       "<pyslds.states.HMMSLDSStatesEigen at 0x1a0829e590>"
      ]
     },
     "execution_count": 10,
     "metadata": {},
     "output_type": "execute_result"
    }
   ],
   "source": [
    "test_model = DefaultSLDS(K, yDim, xDim, inputDim,\n",
    "                         Cs=npr.randn(yDim, xDim),\n",
    "                         Ds=npr.randn(yDim, inputDim))\n",
    "test_model.add_data(unit_trial, inputs=inputs)"
   ]
  },
  {
   "cell_type": "code",
   "execution_count": 11,
   "metadata": {},
   "outputs": [
    {
     "name": "stdout",
     "output_type": "stream",
     "text": [
      "Initializing with Gibbs\n",
      ".........................  [   25/1000,    0.12sec avg, ETA 01:52 ]\n",
      ".........................  [   50/1000,    0.11sec avg, ETA 01:49 ]\n",
      ".........................  [   75/1000,    0.11sec avg, ETA 01:46 ]\n",
      ".........................  [  100/1000,    0.11sec avg, ETA 01:42 ]\n",
      ".........................  [  125/1000,    0.11sec avg, ETA 01:39 ]\n",
      ".........................  [  150/1000,    0.11sec avg, ETA 01:37 ]\n",
      ".........................  [  175/1000,    0.12sec avg, ETA 01:35 ]\n",
      ".........................  [  200/1000,    0.11sec avg, ETA 01:32 ]\n",
      ".........................  [  225/1000,    0.11sec avg, ETA 01:28 ]\n",
      ".........................  [  250/1000,    0.11sec avg, ETA 01:25 ]\n",
      ".........................  [  275/1000,    0.11sec avg, ETA 01:22 ]\n",
      ".........................  [  300/1000,    0.11sec avg, ETA 01:18 ]\n",
      ".........................  [  325/1000,    0.11sec avg, ETA 01:15 ]\n",
      ".........................  [  350/1000,    0.11sec avg, ETA 01:12 ]\n",
      ".........................  [  375/1000,    0.11sec avg, ETA 01:09 ]\n",
      ".........................  [  400/1000,    0.11sec avg, ETA 01:06 ]\n",
      ".........................  [  425/1000,    0.11sec avg, ETA 01:03 ]\n",
      ".........................  [  450/1000,    0.11sec avg, ETA 01:00 ]\n",
      ".........................  [  475/1000,    0.11sec avg, ETA 57.59 ]\n",
      ".........................  [  500/1000,    0.11sec avg, ETA 54.76 ]\n",
      ".........................  [  525/1000,    0.11sec avg, ETA 51.95 ]\n",
      ".........................  [  550/1000,    0.11sec avg, ETA 49.16 ]\n",
      ".........................  [  575/1000,    0.11sec avg, ETA 46.38 ]\n",
      ".........................  [  600/1000,    0.11sec avg, ETA 43.61 ]\n",
      ".........................  [  625/1000,    0.11sec avg, ETA 40.89 ]\n",
      ".........................  [  650/1000,    0.11sec avg, ETA 38.15 ]\n",
      ".........................  [  675/1000,    0.11sec avg, ETA 35.41 ]\n",
      ".........................  [  700/1000,    0.11sec avg, ETA 32.71 ]\n",
      ".........................  [  725/1000,    0.11sec avg, ETA 30.00 ]\n",
      ".........................  [  750/1000,    0.11sec avg, ETA 27.28 ]\n",
      ".........................  [  775/1000,    0.11sec avg, ETA 24.56 ]\n",
      ".........................  [  800/1000,    0.11sec avg, ETA 21.85 ]\n",
      ".........................  [  825/1000,    0.11sec avg, ETA 19.14 ]\n",
      ".........................  [  850/1000,    0.11sec avg, ETA 16.41 ]\n",
      ".........................  [  875/1000,    0.11sec avg, ETA 13.69 ]\n",
      ".........................  [  900/1000,    0.11sec avg, ETA 10.95 ]\n",
      ".........................  [  925/1000,    0.11sec avg, ETA 8.22 ]\n",
      ".........................  [  950/1000,    0.11sec avg, ETA 5.48 ]\n",
      ".........................  [  975/1000,    0.11sec avg, ETA 2.74 ]\n",
      ".........................  [ 1000/1000,    0.11sec avg, ETA 0.00 ]\n",
      "\n",
      "   0.11sec avg, 01:50 total\n",
      "\n"
     ]
    }
   ],
   "source": [
    "print(\"Initializing with Gibbs\")\n",
    "N_gibbs_samples = 1000\n",
    "def initialize(model):\n",
    "    model.resample_model()\n",
    "    return model.log_likelihood()\n",
    "\n",
    "gibbs_lls = [initialize(test_model) for _ in progprint_xrange(N_gibbs_samples)]"
   ]
  },
  {
   "cell_type": "code",
   "execution_count": 12,
   "metadata": {},
   "outputs": [
    {
     "name": "stdout",
     "output_type": "stream",
     "text": [
      "Fitting with VBEM\n",
      ".."
     ]
    },
    {
     "name": "stderr",
     "output_type": "stream",
     "text": [
      "/Users/dalin/anaconda/envs/py2/lib/python2.7/site-packages/pyhsmm/internals/hmm_states.py:675: RuntimeWarning: divide by zero encountered in log\n",
      "  np.log(trans_potential),likelihood_log_potential,alphal,betal,\n"
     ]
    },
    {
     "name": "stdout",
     "output_type": "stream",
     "text": [
      ".......................  [   25/1000,    0.21sec avg, ETA 03:29 ]\n",
      ".........................  [   50/1000,    0.21sec avg, ETA 03:22 ]\n",
      ".........................  [   75/1000,    0.21sec avg, ETA 03:12 ]\n",
      ".........................  [  100/1000,    0.21sec avg, ETA 03:06 ]\n",
      ".........................  [  125/1000,    0.21sec avg, ETA 02:60 ]\n",
      ".........................  [  150/1000,    0.21sec avg, ETA 02:55 ]\n",
      ".........................  [  175/1000,    0.21sec avg, ETA 02:51 ]\n",
      ".........................  [  200/1000,    0.21sec avg, ETA 02:46 ]\n",
      ".........................  [  225/1000,    0.21sec avg, ETA 02:42 ]\n",
      ".........................  [  250/1000,    0.21sec avg, ETA 02:38 ]\n",
      ".........................  [  275/1000,    0.21sec avg, ETA 02:33 ]\n",
      ".........................  [  300/1000,    0.21sec avg, ETA 02:28 ]\n",
      ".........................  [  325/1000,    0.21sec avg, ETA 02:23 ]\n",
      ".........................  [  350/1000,    0.21sec avg, ETA 02:17 ]\n",
      ".........................  [  375/1000,    0.21sec avg, ETA 02:12 ]\n",
      ".........................  [  400/1000,    0.21sec avg, ETA 02:06 ]\n",
      ".........................  [  425/1000,    0.21sec avg, ETA 02:01 ]\n",
      ".........................  [  450/1000,    0.21sec avg, ETA 01:56 ]\n",
      ".........................  [  475/1000,    0.21sec avg, ETA 01:50 ]\n",
      ".........................  [  500/1000,    0.21sec avg, ETA 01:45 ]\n",
      ".........................  [  525/1000,    0.21sec avg, ETA 01:40 ]\n",
      ".........................  [  550/1000,    0.21sec avg, ETA 01:34 ]\n",
      ".........................  [  575/1000,    0.21sec avg, ETA 01:29 ]\n",
      ".........................  [  600/1000,    0.21sec avg, ETA 01:23 ]\n",
      ".........................  [  625/1000,    0.21sec avg, ETA 01:18 ]\n",
      ".........................  [  650/1000,    0.21sec avg, ETA 01:13 ]\n",
      ".........................  [  675/1000,    0.21sec avg, ETA 01:08 ]\n",
      ".........................  [  700/1000,    0.21sec avg, ETA 01:02 ]\n",
      ".........................  [  725/1000,    0.21sec avg, ETA 57.07 ]\n",
      ".........................  [  750/1000,    0.21sec avg, ETA 51.83 ]\n",
      ".........................  [  775/1000,    0.21sec avg, ETA 46.71 ]\n",
      ".........................  [  800/1000,    0.21sec avg, ETA 41.56 ]\n",
      ".........................  [  825/1000,    0.21sec avg, ETA 36.37 ]\n",
      ".........................  [  850/1000,    0.21sec avg, ETA 31.17 ]\n",
      ".........................  [  875/1000,    0.21sec avg, ETA 25.96 ]\n",
      ".........................  [  900/1000,    0.21sec avg, ETA 20.78 ]\n",
      ".........................  [  925/1000,    0.21sec avg, ETA 15.59 ]\n",
      ".........................  [  950/1000,    0.21sec avg, ETA 10.40 ]\n",
      ".........................  [  975/1000,    0.21sec avg, ETA 5.20 ]\n",
      ".........................  [ 1000/1000,    0.21sec avg, ETA 0.00 ]\n",
      "\n",
      "   0.21sec avg, 03:28 total\n",
      "\n"
     ]
    }
   ],
   "source": [
    "# Fit with VBEM\n",
    "print(\"Fitting with VBEM\")\n",
    "N_vbem_iters = 1000\n",
    "def update(model):\n",
    "    model.VBEM_step()\n",
    "    return model.log_likelihood()\n",
    "\n",
    "test_model.states_list[0]._init_mf_from_gibbs()\n",
    "vbem_lls = [update(test_model) for _ in progprint_xrange(N_vbem_iters)]"
   ]
  },
  {
   "cell_type": "code",
   "execution_count": 13,
   "metadata": {},
   "outputs": [],
   "source": [
    "import matplotlib.pyplot as plt\n",
    "from matplotlib.gridspec import GridSpec\n",
    "\n",
    "# Fancy plotting\n",
    "try:\n",
    "    import seaborn as sns\n",
    "    from hips.plotting.colormaps import gradient_cmap\n",
    "    sns.set_style(\"white\")\n",
    "    sns.set_context(\"paper\")\n",
    "\n",
    "    color_names = [\"red\",\n",
    "                   \"windows blue\",\n",
    "                   \"medium green\",\n",
    "                   \"dusty purple\",\n",
    "                   \"orange\",\n",
    "                   \"amber\",\n",
    "                   \"clay\",\n",
    "                   \"pink\",\n",
    "                   \"greyish\",\n",
    "                   \"light cyan\",\n",
    "                   \"steel blue\",\n",
    "                   \"forest green\",\n",
    "                   \"pastel purple\",\n",
    "                   \"mint\",\n",
    "                   \"salmon\",\n",
    "                   \"dark brown\"]\n",
    "    colors = sns.xkcd_palette(color_names)\n",
    "    cmap = gradient_cmap(colors)\n",
    "except:\n",
    "    from matplotlib.cm import get_cmap\n",
    "    colors = ['b', 'r', 'y', 'g', 'purple']\n",
    "    cmap = get_cmap(\"jet\")"
   ]
  },
  {
   "cell_type": "code",
   "execution_count": 14,
   "metadata": {},
   "outputs": [
    {
     "data": {
      "image/png": "[encoded data removed]",
      "text/plain": [
       "<matplotlib.figure.Figure at 0x1a17d00690>"
      ]
     },
     "metadata": {},
     "output_type": "display_data"
    }
   ],
   "source": [
    "# Plot the log likelihoods\n",
    "plt.figure(figsize=(10,6))\n",
    "# plt.plot(np.arange(N_gibbs_samples), gibbs_lls, color=colors[0], label=\"gibbs\")\n",
    "# plt.plot(np.arange(N_gibbs_samples + 1, N_gibbs_samples + N_vbem_iters), vbem_lls[1:], color=colors[1], label=\"vbem\")\n",
    "# plt.xlim(0, N_gibbs_samples + N_vbem_iters)\n",
    "plt.plot(gibbs_lls, color=colors[0], label=\"gibbs\")\n",
    "plt.plot(np.array(vbem_lls), color=colors[1], label=\"vbem\")\n",
    "# plt.xlim([950, 1000])\n",
    "plt.xlabel('iteration')\n",
    "plt.ylabel('log likelihood')\n",
    "plt.legend(loc=\"lower right\")\n",
    "plt.tight_layout()\n",
    "# plt.savefig(\"aux/demo_ll.png\")"
   ]
  },
  {
   "cell_type": "code",
   "execution_count": 15,
   "metadata": {},
   "outputs": [],
   "source": [
    "# Smooth the data\n",
    "smoothed_data = test_model.smooth(unit_trial, inputs=inputs)"
   ]
  },
  {
   "cell_type": "code",
   "execution_count": null,
   "metadata": {},
   "outputs": [
    {
     "data": {
      "image/png": "[encoded data removed]",
      "text/plain": [
       "<matplotlib.figure.Figure at 0x1a17da8c50>"
      ]
     },
     "metadata": {},
     "output_type": "display_data"
    }
   ],
   "source": [
    "fig = plt.figure(figsize=(10,80))\n",
    "gs = GridSpec(3, 1, height_ratios=[.1, .1, 1.0])\n",
    "ax = fig.add_subplot(gs[1,0])\n",
    "timeRange = params['timeSeries'][0][0].flatten()\n",
    "ax.imshow(test_model.states_list[0].stateseq.reshape(numTrial, numTime), vmin=0, vmax=max(len(colors), test_model.num_states)-1,\n",
    "          cmap=cmap, interpolation=\"nearest\", extent=[timeRange.min(),timeRange.max(),numTrial,1], aspect='auto')\n",
    "ax.set_xticks([timeRange.min(), -2.6, -1.2, 0,timeRange.max()])\n",
    "ax.set_yticks([numTrial, totTargets.sum(),1])\n",
    "ax.set_xlabel('Time from movement(sec)')\n",
    "ax.set_ylabel('Trial index')\n",
    "ax.set_title(\"Inferred Discrete States\")\n",
    "plt.show()\n",
    "\n",
    "# ax = fig.add_subplot(gs[2,0])\n",
    "# plt.plot(y[:,0], color='k', lw=2, label=\"observed\")\n",
    "# plt.plot(smoothed_data[:,0], color=colors[0], lw=1, label=\"smoothed\")\n",
    "# plt.xlabel(\"Time\")\n",
    "# plt.xlim(0, min(T, 500))\n",
    "# plt.ylabel(\"Observations\")\n",
    "# plt.legend(loc=\"upper center\", ncol=2)\n",
    "# plt.tight_layout()\n",
    "# # d\n",
    "# # \n",
    "# plt.figure()\n",
    "# from pyhsmm.util.general import rle\n",
    "# z_rle = rle(z)\n",
    "# offset = 0\n",
    "# for k, dur in zip(*z_rle):\n",
    "#     plt.plot(x[offset:offset+dur,0], x[offset:offset+dur,1], color=colors[k])\n",
    "#     offset += dur\n",
    "\n",
    "# plt.xlabel(\"$x_1$\")\n",
    "# plt.ylabel(\"$x_2$\")\n",
    "# plt.title(\"Continuous Latent States\")\n",
    "# plt.show()"
   ]
  },
  {
   "cell_type": "code",
   "execution_count": null,
   "metadata": {},
   "outputs": [],
   "source": []
  }
 ],
 "metadata": {
  "kernelspec": {
   "display_name": "Python 2",
   "language": "python",
   "name": "python2"
  },
  "language_info": {
   "codemirror_mode": {
    "name": "ipython",
    "version": 2
   },
   "file_extension": ".py",
   "mimetype": "text/x-python",
   "name": "python",
   "nbconvert_exporter": "python",
   "pygments_lexer": "ipython2",
   "version": "2.7.14"
  }
 },
 "nbformat": 4,
 "nbformat_minor": 2
}
